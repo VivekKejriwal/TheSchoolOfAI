{
  "nbformat": 4,
  "nbformat_minor": 0,
  "metadata": {
    "colab": {
      "name": "File4",
      "provenance": [],
      "collapsed_sections": [],
      "authorship_tag": "ABX9TyO0u2UXnZNZPMByyybbyFpG",
      "include_colab_link": true
    },
    "kernelspec": {
      "name": "python3",
      "display_name": "Python 3"
    },
    "accelerator": "GPU",
    "widgets": {
      "application/vnd.jupyter.widget-state+json": {
        "69e5da9d8d4042bd9411d68e52972abb": {
          "model_module": "@jupyter-widgets/controls",
          "model_name": "HBoxModel",
          "state": {
            "_view_name": "HBoxView",
            "_dom_classes": [],
            "_model_name": "HBoxModel",
            "_view_module": "@jupyter-widgets/controls",
            "_model_module_version": "1.5.0",
            "_view_count": null,
            "_view_module_version": "1.5.0",
            "box_style": "",
            "layout": "IPY_MODEL_cb59981830334996bcf8fdc455517df9",
            "_model_module": "@jupyter-widgets/controls",
            "children": [
              "IPY_MODEL_f189c9c447714e1d8489b38959a0db8a",
              "IPY_MODEL_9e42d726d6fc4ed49b171eff2df0a277"
            ]
          }
        },
        "cb59981830334996bcf8fdc455517df9": {
          "model_module": "@jupyter-widgets/base",
          "model_name": "LayoutModel",
          "state": {
            "_view_name": "LayoutView",
            "grid_template_rows": null,
            "right": null,
            "justify_content": null,
            "_view_module": "@jupyter-widgets/base",
            "overflow": null,
            "_model_module_version": "1.2.0",
            "_view_count": null,
            "flex_flow": null,
            "width": null,
            "min_width": null,
            "border": null,
            "align_items": null,
            "bottom": null,
            "_model_module": "@jupyter-widgets/base",
            "top": null,
            "grid_column": null,
            "overflow_y": null,
            "overflow_x": null,
            "grid_auto_flow": null,
            "grid_area": null,
            "grid_template_columns": null,
            "flex": null,
            "_model_name": "LayoutModel",
            "justify_items": null,
            "grid_row": null,
            "max_height": null,
            "align_content": null,
            "visibility": null,
            "align_self": null,
            "height": null,
            "min_height": null,
            "padding": null,
            "grid_auto_rows": null,
            "grid_gap": null,
            "max_width": null,
            "order": null,
            "_view_module_version": "1.2.0",
            "grid_template_areas": null,
            "object_position": null,
            "object_fit": null,
            "grid_auto_columns": null,
            "margin": null,
            "display": null,
            "left": null
          }
        },
        "f189c9c447714e1d8489b38959a0db8a": {
          "model_module": "@jupyter-widgets/controls",
          "model_name": "FloatProgressModel",
          "state": {
            "_view_name": "ProgressView",
            "style": "IPY_MODEL_64d76ad651a84b748c016fd926de5219",
            "_dom_classes": [],
            "description": "",
            "_model_name": "FloatProgressModel",
            "bar_style": "info",
            "max": 1,
            "_view_module": "@jupyter-widgets/controls",
            "_model_module_version": "1.5.0",
            "value": 1,
            "_view_count": null,
            "_view_module_version": "1.5.0",
            "orientation": "horizontal",
            "min": 0,
            "description_tooltip": null,
            "_model_module": "@jupyter-widgets/controls",
            "layout": "IPY_MODEL_14ea7fdd6c244c26aa58f2aaa3887794"
          }
        },
        "9e42d726d6fc4ed49b171eff2df0a277": {
          "model_module": "@jupyter-widgets/controls",
          "model_name": "HTMLModel",
          "state": {
            "_view_name": "HTMLView",
            "style": "IPY_MODEL_36f4184f1b5047eb857ecb0c031c211d",
            "_dom_classes": [],
            "description": "",
            "_model_name": "HTMLModel",
            "placeholder": "​",
            "_view_module": "@jupyter-widgets/controls",
            "_model_module_version": "1.5.0",
            "value": " 9920512/? [00:20&lt;00:00, 1455789.99it/s]",
            "_view_count": null,
            "_view_module_version": "1.5.0",
            "description_tooltip": null,
            "_model_module": "@jupyter-widgets/controls",
            "layout": "IPY_MODEL_9558ee74180e4adc9b571795fe2ce1d5"
          }
        },
        "64d76ad651a84b748c016fd926de5219": {
          "model_module": "@jupyter-widgets/controls",
          "model_name": "ProgressStyleModel",
          "state": {
            "_view_name": "StyleView",
            "_model_name": "ProgressStyleModel",
            "description_width": "initial",
            "_view_module": "@jupyter-widgets/base",
            "_model_module_version": "1.5.0",
            "_view_count": null,
            "_view_module_version": "1.2.0",
            "bar_color": null,
            "_model_module": "@jupyter-widgets/controls"
          }
        },
        "14ea7fdd6c244c26aa58f2aaa3887794": {
          "model_module": "@jupyter-widgets/base",
          "model_name": "LayoutModel",
          "state": {
            "_view_name": "LayoutView",
            "grid_template_rows": null,
            "right": null,
            "justify_content": null,
            "_view_module": "@jupyter-widgets/base",
            "overflow": null,
            "_model_module_version": "1.2.0",
            "_view_count": null,
            "flex_flow": null,
            "width": null,
            "min_width": null,
            "border": null,
            "align_items": null,
            "bottom": null,
            "_model_module": "@jupyter-widgets/base",
            "top": null,
            "grid_column": null,
            "overflow_y": null,
            "overflow_x": null,
            "grid_auto_flow": null,
            "grid_area": null,
            "grid_template_columns": null,
            "flex": null,
            "_model_name": "LayoutModel",
            "justify_items": null,
            "grid_row": null,
            "max_height": null,
            "align_content": null,
            "visibility": null,
            "align_self": null,
            "height": null,
            "min_height": null,
            "padding": null,
            "grid_auto_rows": null,
            "grid_gap": null,
            "max_width": null,
            "order": null,
            "_view_module_version": "1.2.0",
            "grid_template_areas": null,
            "object_position": null,
            "object_fit": null,
            "grid_auto_columns": null,
            "margin": null,
            "display": null,
            "left": null
          }
        },
        "36f4184f1b5047eb857ecb0c031c211d": {
          "model_module": "@jupyter-widgets/controls",
          "model_name": "DescriptionStyleModel",
          "state": {
            "_view_name": "StyleView",
            "_model_name": "DescriptionStyleModel",
            "description_width": "",
            "_view_module": "@jupyter-widgets/base",
            "_model_module_version": "1.5.0",
            "_view_count": null,
            "_view_module_version": "1.2.0",
            "_model_module": "@jupyter-widgets/controls"
          }
        },
        "9558ee74180e4adc9b571795fe2ce1d5": {
          "model_module": "@jupyter-widgets/base",
          "model_name": "LayoutModel",
          "state": {
            "_view_name": "LayoutView",
            "grid_template_rows": null,
            "right": null,
            "justify_content": null,
            "_view_module": "@jupyter-widgets/base",
            "overflow": null,
            "_model_module_version": "1.2.0",
            "_view_count": null,
            "flex_flow": null,
            "width": null,
            "min_width": null,
            "border": null,
            "align_items": null,
            "bottom": null,
            "_model_module": "@jupyter-widgets/base",
            "top": null,
            "grid_column": null,
            "overflow_y": null,
            "overflow_x": null,
            "grid_auto_flow": null,
            "grid_area": null,
            "grid_template_columns": null,
            "flex": null,
            "_model_name": "LayoutModel",
            "justify_items": null,
            "grid_row": null,
            "max_height": null,
            "align_content": null,
            "visibility": null,
            "align_self": null,
            "height": null,
            "min_height": null,
            "padding": null,
            "grid_auto_rows": null,
            "grid_gap": null,
            "max_width": null,
            "order": null,
            "_view_module_version": "1.2.0",
            "grid_template_areas": null,
            "object_position": null,
            "object_fit": null,
            "grid_auto_columns": null,
            "margin": null,
            "display": null,
            "left": null
          }
        },
        "4fe7a8e467e5405e9db33b00e295c410": {
          "model_module": "@jupyter-widgets/controls",
          "model_name": "HBoxModel",
          "state": {
            "_view_name": "HBoxView",
            "_dom_classes": [],
            "_model_name": "HBoxModel",
            "_view_module": "@jupyter-widgets/controls",
            "_model_module_version": "1.5.0",
            "_view_count": null,
            "_view_module_version": "1.5.0",
            "box_style": "",
            "layout": "IPY_MODEL_5ab16900e5184b64b9cbd5254cbb93b5",
            "_model_module": "@jupyter-widgets/controls",
            "children": [
              "IPY_MODEL_3778415e824e4e2a9f0591b123d422af",
              "IPY_MODEL_31183570b0f64b1fb6696445b4f6223c"
            ]
          }
        },
        "5ab16900e5184b64b9cbd5254cbb93b5": {
          "model_module": "@jupyter-widgets/base",
          "model_name": "LayoutModel",
          "state": {
            "_view_name": "LayoutView",
            "grid_template_rows": null,
            "right": null,
            "justify_content": null,
            "_view_module": "@jupyter-widgets/base",
            "overflow": null,
            "_model_module_version": "1.2.0",
            "_view_count": null,
            "flex_flow": null,
            "width": null,
            "min_width": null,
            "border": null,
            "align_items": null,
            "bottom": null,
            "_model_module": "@jupyter-widgets/base",
            "top": null,
            "grid_column": null,
            "overflow_y": null,
            "overflow_x": null,
            "grid_auto_flow": null,
            "grid_area": null,
            "grid_template_columns": null,
            "flex": null,
            "_model_name": "LayoutModel",
            "justify_items": null,
            "grid_row": null,
            "max_height": null,
            "align_content": null,
            "visibility": null,
            "align_self": null,
            "height": null,
            "min_height": null,
            "padding": null,
            "grid_auto_rows": null,
            "grid_gap": null,
            "max_width": null,
            "order": null,
            "_view_module_version": "1.2.0",
            "grid_template_areas": null,
            "object_position": null,
            "object_fit": null,
            "grid_auto_columns": null,
            "margin": null,
            "display": null,
            "left": null
          }
        },
        "3778415e824e4e2a9f0591b123d422af": {
          "model_module": "@jupyter-widgets/controls",
          "model_name": "FloatProgressModel",
          "state": {
            "_view_name": "ProgressView",
            "style": "IPY_MODEL_defe73f682cf490783b99ff65af68fdc",
            "_dom_classes": [],
            "description": "",
            "_model_name": "FloatProgressModel",
            "bar_style": "success",
            "max": 1,
            "_view_module": "@jupyter-widgets/controls",
            "_model_module_version": "1.5.0",
            "value": 1,
            "_view_count": null,
            "_view_module_version": "1.5.0",
            "orientation": "horizontal",
            "min": 0,
            "description_tooltip": null,
            "_model_module": "@jupyter-widgets/controls",
            "layout": "IPY_MODEL_24faafe3f7004554ad8d0860885d46f8"
          }
        },
        "31183570b0f64b1fb6696445b4f6223c": {
          "model_module": "@jupyter-widgets/controls",
          "model_name": "HTMLModel",
          "state": {
            "_view_name": "HTMLView",
            "style": "IPY_MODEL_2761876c65bb4c8589950560d2bfac2d",
            "_dom_classes": [],
            "description": "",
            "_model_name": "HTMLModel",
            "placeholder": "​",
            "_view_module": "@jupyter-widgets/controls",
            "_model_module_version": "1.5.0",
            "value": " 32768/? [00:00&lt;00:00, 119747.25it/s]",
            "_view_count": null,
            "_view_module_version": "1.5.0",
            "description_tooltip": null,
            "_model_module": "@jupyter-widgets/controls",
            "layout": "IPY_MODEL_6c658c225cf847aea1d51d3c665b2cbf"
          }
        },
        "defe73f682cf490783b99ff65af68fdc": {
          "model_module": "@jupyter-widgets/controls",
          "model_name": "ProgressStyleModel",
          "state": {
            "_view_name": "StyleView",
            "_model_name": "ProgressStyleModel",
            "description_width": "initial",
            "_view_module": "@jupyter-widgets/base",
            "_model_module_version": "1.5.0",
            "_view_count": null,
            "_view_module_version": "1.2.0",
            "bar_color": null,
            "_model_module": "@jupyter-widgets/controls"
          }
        },
        "24faafe3f7004554ad8d0860885d46f8": {
          "model_module": "@jupyter-widgets/base",
          "model_name": "LayoutModel",
          "state": {
            "_view_name": "LayoutView",
            "grid_template_rows": null,
            "right": null,
            "justify_content": null,
            "_view_module": "@jupyter-widgets/base",
            "overflow": null,
            "_model_module_version": "1.2.0",
            "_view_count": null,
            "flex_flow": null,
            "width": null,
            "min_width": null,
            "border": null,
            "align_items": null,
            "bottom": null,
            "_model_module": "@jupyter-widgets/base",
            "top": null,
            "grid_column": null,
            "overflow_y": null,
            "overflow_x": null,
            "grid_auto_flow": null,
            "grid_area": null,
            "grid_template_columns": null,
            "flex": null,
            "_model_name": "LayoutModel",
            "justify_items": null,
            "grid_row": null,
            "max_height": null,
            "align_content": null,
            "visibility": null,
            "align_self": null,
            "height": null,
            "min_height": null,
            "padding": null,
            "grid_auto_rows": null,
            "grid_gap": null,
            "max_width": null,
            "order": null,
            "_view_module_version": "1.2.0",
            "grid_template_areas": null,
            "object_position": null,
            "object_fit": null,
            "grid_auto_columns": null,
            "margin": null,
            "display": null,
            "left": null
          }
        },
        "2761876c65bb4c8589950560d2bfac2d": {
          "model_module": "@jupyter-widgets/controls",
          "model_name": "DescriptionStyleModel",
          "state": {
            "_view_name": "StyleView",
            "_model_name": "DescriptionStyleModel",
            "description_width": "",
            "_view_module": "@jupyter-widgets/base",
            "_model_module_version": "1.5.0",
            "_view_count": null,
            "_view_module_version": "1.2.0",
            "_model_module": "@jupyter-widgets/controls"
          }
        },
        "6c658c225cf847aea1d51d3c665b2cbf": {
          "model_module": "@jupyter-widgets/base",
          "model_name": "LayoutModel",
          "state": {
            "_view_name": "LayoutView",
            "grid_template_rows": null,
            "right": null,
            "justify_content": null,
            "_view_module": "@jupyter-widgets/base",
            "overflow": null,
            "_model_module_version": "1.2.0",
            "_view_count": null,
            "flex_flow": null,
            "width": null,
            "min_width": null,
            "border": null,
            "align_items": null,
            "bottom": null,
            "_model_module": "@jupyter-widgets/base",
            "top": null,
            "grid_column": null,
            "overflow_y": null,
            "overflow_x": null,
            "grid_auto_flow": null,
            "grid_area": null,
            "grid_template_columns": null,
            "flex": null,
            "_model_name": "LayoutModel",
            "justify_items": null,
            "grid_row": null,
            "max_height": null,
            "align_content": null,
            "visibility": null,
            "align_self": null,
            "height": null,
            "min_height": null,
            "padding": null,
            "grid_auto_rows": null,
            "grid_gap": null,
            "max_width": null,
            "order": null,
            "_view_module_version": "1.2.0",
            "grid_template_areas": null,
            "object_position": null,
            "object_fit": null,
            "grid_auto_columns": null,
            "margin": null,
            "display": null,
            "left": null
          }
        },
        "8ed00cf8d32b400194a2692596f34036": {
          "model_module": "@jupyter-widgets/controls",
          "model_name": "HBoxModel",
          "state": {
            "_view_name": "HBoxView",
            "_dom_classes": [],
            "_model_name": "HBoxModel",
            "_view_module": "@jupyter-widgets/controls",
            "_model_module_version": "1.5.0",
            "_view_count": null,
            "_view_module_version": "1.5.0",
            "box_style": "",
            "layout": "IPY_MODEL_4c170e0795d84299acf8f40dc918ddb4",
            "_model_module": "@jupyter-widgets/controls",
            "children": [
              "IPY_MODEL_facd43976d21487dbeb5fea56dbbe6c6",
              "IPY_MODEL_6f7d977ee91f46f6a06bf808e653b46d"
            ]
          }
        },
        "4c170e0795d84299acf8f40dc918ddb4": {
          "model_module": "@jupyter-widgets/base",
          "model_name": "LayoutModel",
          "state": {
            "_view_name": "LayoutView",
            "grid_template_rows": null,
            "right": null,
            "justify_content": null,
            "_view_module": "@jupyter-widgets/base",
            "overflow": null,
            "_model_module_version": "1.2.0",
            "_view_count": null,
            "flex_flow": null,
            "width": null,
            "min_width": null,
            "border": null,
            "align_items": null,
            "bottom": null,
            "_model_module": "@jupyter-widgets/base",
            "top": null,
            "grid_column": null,
            "overflow_y": null,
            "overflow_x": null,
            "grid_auto_flow": null,
            "grid_area": null,
            "grid_template_columns": null,
            "flex": null,
            "_model_name": "LayoutModel",
            "justify_items": null,
            "grid_row": null,
            "max_height": null,
            "align_content": null,
            "visibility": null,
            "align_self": null,
            "height": null,
            "min_height": null,
            "padding": null,
            "grid_auto_rows": null,
            "grid_gap": null,
            "max_width": null,
            "order": null,
            "_view_module_version": "1.2.0",
            "grid_template_areas": null,
            "object_position": null,
            "object_fit": null,
            "grid_auto_columns": null,
            "margin": null,
            "display": null,
            "left": null
          }
        },
        "facd43976d21487dbeb5fea56dbbe6c6": {
          "model_module": "@jupyter-widgets/controls",
          "model_name": "FloatProgressModel",
          "state": {
            "_view_name": "ProgressView",
            "style": "IPY_MODEL_801f5c05b3ba4800a939b91c93b13b59",
            "_dom_classes": [],
            "description": "",
            "_model_name": "FloatProgressModel",
            "bar_style": "info",
            "max": 1,
            "_view_module": "@jupyter-widgets/controls",
            "_model_module_version": "1.5.0",
            "value": 1,
            "_view_count": null,
            "_view_module_version": "1.5.0",
            "orientation": "horizontal",
            "min": 0,
            "description_tooltip": null,
            "_model_module": "@jupyter-widgets/controls",
            "layout": "IPY_MODEL_7592c34d90624311ae9f9d5f9bc1861c"
          }
        },
        "6f7d977ee91f46f6a06bf808e653b46d": {
          "model_module": "@jupyter-widgets/controls",
          "model_name": "HTMLModel",
          "state": {
            "_view_name": "HTMLView",
            "style": "IPY_MODEL_ffd9c65440f243fbb3d46b06513cb465",
            "_dom_classes": [],
            "description": "",
            "_model_name": "HTMLModel",
            "placeholder": "​",
            "_view_module": "@jupyter-widgets/controls",
            "_model_module_version": "1.5.0",
            "value": " 1654784/? [00:18&lt;00:00, 527827.94it/s]",
            "_view_count": null,
            "_view_module_version": "1.5.0",
            "description_tooltip": null,
            "_model_module": "@jupyter-widgets/controls",
            "layout": "IPY_MODEL_bb1e6a20c7bf4d878f7e9514a1fbb312"
          }
        },
        "801f5c05b3ba4800a939b91c93b13b59": {
          "model_module": "@jupyter-widgets/controls",
          "model_name": "ProgressStyleModel",
          "state": {
            "_view_name": "StyleView",
            "_model_name": "ProgressStyleModel",
            "description_width": "initial",
            "_view_module": "@jupyter-widgets/base",
            "_model_module_version": "1.5.0",
            "_view_count": null,
            "_view_module_version": "1.2.0",
            "bar_color": null,
            "_model_module": "@jupyter-widgets/controls"
          }
        },
        "7592c34d90624311ae9f9d5f9bc1861c": {
          "model_module": "@jupyter-widgets/base",
          "model_name": "LayoutModel",
          "state": {
            "_view_name": "LayoutView",
            "grid_template_rows": null,
            "right": null,
            "justify_content": null,
            "_view_module": "@jupyter-widgets/base",
            "overflow": null,
            "_model_module_version": "1.2.0",
            "_view_count": null,
            "flex_flow": null,
            "width": null,
            "min_width": null,
            "border": null,
            "align_items": null,
            "bottom": null,
            "_model_module": "@jupyter-widgets/base",
            "top": null,
            "grid_column": null,
            "overflow_y": null,
            "overflow_x": null,
            "grid_auto_flow": null,
            "grid_area": null,
            "grid_template_columns": null,
            "flex": null,
            "_model_name": "LayoutModel",
            "justify_items": null,
            "grid_row": null,
            "max_height": null,
            "align_content": null,
            "visibility": null,
            "align_self": null,
            "height": null,
            "min_height": null,
            "padding": null,
            "grid_auto_rows": null,
            "grid_gap": null,
            "max_width": null,
            "order": null,
            "_view_module_version": "1.2.0",
            "grid_template_areas": null,
            "object_position": null,
            "object_fit": null,
            "grid_auto_columns": null,
            "margin": null,
            "display": null,
            "left": null
          }
        },
        "ffd9c65440f243fbb3d46b06513cb465": {
          "model_module": "@jupyter-widgets/controls",
          "model_name": "DescriptionStyleModel",
          "state": {
            "_view_name": "StyleView",
            "_model_name": "DescriptionStyleModel",
            "description_width": "",
            "_view_module": "@jupyter-widgets/base",
            "_model_module_version": "1.5.0",
            "_view_count": null,
            "_view_module_version": "1.2.0",
            "_model_module": "@jupyter-widgets/controls"
          }
        },
        "bb1e6a20c7bf4d878f7e9514a1fbb312": {
          "model_module": "@jupyter-widgets/base",
          "model_name": "LayoutModel",
          "state": {
            "_view_name": "LayoutView",
            "grid_template_rows": null,
            "right": null,
            "justify_content": null,
            "_view_module": "@jupyter-widgets/base",
            "overflow": null,
            "_model_module_version": "1.2.0",
            "_view_count": null,
            "flex_flow": null,
            "width": null,
            "min_width": null,
            "border": null,
            "align_items": null,
            "bottom": null,
            "_model_module": "@jupyter-widgets/base",
            "top": null,
            "grid_column": null,
            "overflow_y": null,
            "overflow_x": null,
            "grid_auto_flow": null,
            "grid_area": null,
            "grid_template_columns": null,
            "flex": null,
            "_model_name": "LayoutModel",
            "justify_items": null,
            "grid_row": null,
            "max_height": null,
            "align_content": null,
            "visibility": null,
            "align_self": null,
            "height": null,
            "min_height": null,
            "padding": null,
            "grid_auto_rows": null,
            "grid_gap": null,
            "max_width": null,
            "order": null,
            "_view_module_version": "1.2.0",
            "grid_template_areas": null,
            "object_position": null,
            "object_fit": null,
            "grid_auto_columns": null,
            "margin": null,
            "display": null,
            "left": null
          }
        },
        "b9d2ddd2517e49e892e34eb5890f38a5": {
          "model_module": "@jupyter-widgets/controls",
          "model_name": "HBoxModel",
          "state": {
            "_view_name": "HBoxView",
            "_dom_classes": [],
            "_model_name": "HBoxModel",
            "_view_module": "@jupyter-widgets/controls",
            "_model_module_version": "1.5.0",
            "_view_count": null,
            "_view_module_version": "1.5.0",
            "box_style": "",
            "layout": "IPY_MODEL_5e9e02729e9648619127d0470ce4b3ce",
            "_model_module": "@jupyter-widgets/controls",
            "children": [
              "IPY_MODEL_166e56e83c3c4e71ac77aca118b2c3cf",
              "IPY_MODEL_9feac08c71594843b15b2be49884cd31"
            ]
          }
        },
        "5e9e02729e9648619127d0470ce4b3ce": {
          "model_module": "@jupyter-widgets/base",
          "model_name": "LayoutModel",
          "state": {
            "_view_name": "LayoutView",
            "grid_template_rows": null,
            "right": null,
            "justify_content": null,
            "_view_module": "@jupyter-widgets/base",
            "overflow": null,
            "_model_module_version": "1.2.0",
            "_view_count": null,
            "flex_flow": null,
            "width": null,
            "min_width": null,
            "border": null,
            "align_items": null,
            "bottom": null,
            "_model_module": "@jupyter-widgets/base",
            "top": null,
            "grid_column": null,
            "overflow_y": null,
            "overflow_x": null,
            "grid_auto_flow": null,
            "grid_area": null,
            "grid_template_columns": null,
            "flex": null,
            "_model_name": "LayoutModel",
            "justify_items": null,
            "grid_row": null,
            "max_height": null,
            "align_content": null,
            "visibility": null,
            "align_self": null,
            "height": null,
            "min_height": null,
            "padding": null,
            "grid_auto_rows": null,
            "grid_gap": null,
            "max_width": null,
            "order": null,
            "_view_module_version": "1.2.0",
            "grid_template_areas": null,
            "object_position": null,
            "object_fit": null,
            "grid_auto_columns": null,
            "margin": null,
            "display": null,
            "left": null
          }
        },
        "166e56e83c3c4e71ac77aca118b2c3cf": {
          "model_module": "@jupyter-widgets/controls",
          "model_name": "FloatProgressModel",
          "state": {
            "_view_name": "ProgressView",
            "style": "IPY_MODEL_e16e0f304a544f74857cdb7015b5ed66",
            "_dom_classes": [],
            "description": "",
            "_model_name": "FloatProgressModel",
            "bar_style": "success",
            "max": 1,
            "_view_module": "@jupyter-widgets/controls",
            "_model_module_version": "1.5.0",
            "value": 1,
            "_view_count": null,
            "_view_module_version": "1.5.0",
            "orientation": "horizontal",
            "min": 0,
            "description_tooltip": null,
            "_model_module": "@jupyter-widgets/controls",
            "layout": "IPY_MODEL_7c9aae2a814d4b8ab72ad1133d4bf4f3"
          }
        },
        "9feac08c71594843b15b2be49884cd31": {
          "model_module": "@jupyter-widgets/controls",
          "model_name": "HTMLModel",
          "state": {
            "_view_name": "HTMLView",
            "style": "IPY_MODEL_a0a1d55430a14c469897c59d6e2c460b",
            "_dom_classes": [],
            "description": "",
            "_model_name": "HTMLModel",
            "placeholder": "​",
            "_view_module": "@jupyter-widgets/controls",
            "_model_module_version": "1.5.0",
            "value": " 8192/? [00:00&lt;00:00, 19050.91it/s]",
            "_view_count": null,
            "_view_module_version": "1.5.0",
            "description_tooltip": null,
            "_model_module": "@jupyter-widgets/controls",
            "layout": "IPY_MODEL_a8b9bc91c59145248b04093b734960f6"
          }
        },
        "e16e0f304a544f74857cdb7015b5ed66": {
          "model_module": "@jupyter-widgets/controls",
          "model_name": "ProgressStyleModel",
          "state": {
            "_view_name": "StyleView",
            "_model_name": "ProgressStyleModel",
            "description_width": "initial",
            "_view_module": "@jupyter-widgets/base",
            "_model_module_version": "1.5.0",
            "_view_count": null,
            "_view_module_version": "1.2.0",
            "bar_color": null,
            "_model_module": "@jupyter-widgets/controls"
          }
        },
        "7c9aae2a814d4b8ab72ad1133d4bf4f3": {
          "model_module": "@jupyter-widgets/base",
          "model_name": "LayoutModel",
          "state": {
            "_view_name": "LayoutView",
            "grid_template_rows": null,
            "right": null,
            "justify_content": null,
            "_view_module": "@jupyter-widgets/base",
            "overflow": null,
            "_model_module_version": "1.2.0",
            "_view_count": null,
            "flex_flow": null,
            "width": null,
            "min_width": null,
            "border": null,
            "align_items": null,
            "bottom": null,
            "_model_module": "@jupyter-widgets/base",
            "top": null,
            "grid_column": null,
            "overflow_y": null,
            "overflow_x": null,
            "grid_auto_flow": null,
            "grid_area": null,
            "grid_template_columns": null,
            "flex": null,
            "_model_name": "LayoutModel",
            "justify_items": null,
            "grid_row": null,
            "max_height": null,
            "align_content": null,
            "visibility": null,
            "align_self": null,
            "height": null,
            "min_height": null,
            "padding": null,
            "grid_auto_rows": null,
            "grid_gap": null,
            "max_width": null,
            "order": null,
            "_view_module_version": "1.2.0",
            "grid_template_areas": null,
            "object_position": null,
            "object_fit": null,
            "grid_auto_columns": null,
            "margin": null,
            "display": null,
            "left": null
          }
        },
        "a0a1d55430a14c469897c59d6e2c460b": {
          "model_module": "@jupyter-widgets/controls",
          "model_name": "DescriptionStyleModel",
          "state": {
            "_view_name": "StyleView",
            "_model_name": "DescriptionStyleModel",
            "description_width": "",
            "_view_module": "@jupyter-widgets/base",
            "_model_module_version": "1.5.0",
            "_view_count": null,
            "_view_module_version": "1.2.0",
            "_model_module": "@jupyter-widgets/controls"
          }
        },
        "a8b9bc91c59145248b04093b734960f6": {
          "model_module": "@jupyter-widgets/base",
          "model_name": "LayoutModel",
          "state": {
            "_view_name": "LayoutView",
            "grid_template_rows": null,
            "right": null,
            "justify_content": null,
            "_view_module": "@jupyter-widgets/base",
            "overflow": null,
            "_model_module_version": "1.2.0",
            "_view_count": null,
            "flex_flow": null,
            "width": null,
            "min_width": null,
            "border": null,
            "align_items": null,
            "bottom": null,
            "_model_module": "@jupyter-widgets/base",
            "top": null,
            "grid_column": null,
            "overflow_y": null,
            "overflow_x": null,
            "grid_auto_flow": null,
            "grid_area": null,
            "grid_template_columns": null,
            "flex": null,
            "_model_name": "LayoutModel",
            "justify_items": null,
            "grid_row": null,
            "max_height": null,
            "align_content": null,
            "visibility": null,
            "align_self": null,
            "height": null,
            "min_height": null,
            "padding": null,
            "grid_auto_rows": null,
            "grid_gap": null,
            "max_width": null,
            "order": null,
            "_view_module_version": "1.2.0",
            "grid_template_areas": null,
            "object_position": null,
            "object_fit": null,
            "grid_auto_columns": null,
            "margin": null,
            "display": null,
            "left": null
          }
        }
      }
    }
  },
  "cells": [
    {
      "cell_type": "markdown",
      "metadata": {
        "id": "view-in-github",
        "colab_type": "text"
      },
      "source": [
        "<a href=\"https://colab.research.google.com/github/VivekKejriwal/TheSchoolOfAI/blob/main/Assignment_5/Step4.ipynb\" target=\"_parent\"><img src=\"https://colab.research.google.com/assets/colab-badge.svg\" alt=\"Open In Colab\"/></a>"
      ]
    },
    {
      "cell_type": "code",
      "metadata": {
        "id": "FvWlL_YziVq5"
      },
      "source": [
        "#!pip install torch\r\n",
        "import torch\r\n",
        "import torch.nn as nn\r\n",
        "from torchvision import datasets, transforms\r\n",
        "import torch.optim as optim\r\n",
        "import torch.nn.functional as F"
      ],
      "execution_count": 1,
      "outputs": []
    },
    {
      "cell_type": "code",
      "metadata": {
        "id": "leIMXFWFiXer"
      },
      "source": [
        "#REQUIRED TRANSFORMS CREATED\r\n",
        "\r\n",
        "train_transforms = transforms.Compose([\r\n",
        "    transforms.RandomRotation((-10.0, 10.0), fill=(1,)),\r\n",
        "    transforms.ToTensor(),\r\n",
        "    transforms.Normalize((.1307,),(0.3081,))\r\n",
        "])\r\n",
        "\r\n",
        "test_transforms = transforms.Compose([\r\n",
        "    transforms.ToTensor(),\r\n",
        "    transforms.Normalize((.1307,),(0.3081,))\r\n",
        "])"
      ],
      "execution_count": 2,
      "outputs": []
    },
    {
      "cell_type": "code",
      "metadata": {
        "id": "LLi0H5OZiXp1",
        "colab": {
          "base_uri": "https://localhost:8080/",
          "height": 401,
          "referenced_widgets": [
            "69e5da9d8d4042bd9411d68e52972abb",
            "cb59981830334996bcf8fdc455517df9",
            "f189c9c447714e1d8489b38959a0db8a",
            "9e42d726d6fc4ed49b171eff2df0a277",
            "64d76ad651a84b748c016fd926de5219",
            "14ea7fdd6c244c26aa58f2aaa3887794",
            "36f4184f1b5047eb857ecb0c031c211d",
            "9558ee74180e4adc9b571795fe2ce1d5",
            "4fe7a8e467e5405e9db33b00e295c410",
            "5ab16900e5184b64b9cbd5254cbb93b5",
            "3778415e824e4e2a9f0591b123d422af",
            "31183570b0f64b1fb6696445b4f6223c",
            "defe73f682cf490783b99ff65af68fdc",
            "24faafe3f7004554ad8d0860885d46f8",
            "2761876c65bb4c8589950560d2bfac2d",
            "6c658c225cf847aea1d51d3c665b2cbf",
            "8ed00cf8d32b400194a2692596f34036",
            "4c170e0795d84299acf8f40dc918ddb4",
            "facd43976d21487dbeb5fea56dbbe6c6",
            "6f7d977ee91f46f6a06bf808e653b46d",
            "801f5c05b3ba4800a939b91c93b13b59",
            "7592c34d90624311ae9f9d5f9bc1861c",
            "ffd9c65440f243fbb3d46b06513cb465",
            "bb1e6a20c7bf4d878f7e9514a1fbb312",
            "b9d2ddd2517e49e892e34eb5890f38a5",
            "5e9e02729e9648619127d0470ce4b3ce",
            "166e56e83c3c4e71ac77aca118b2c3cf",
            "9feac08c71594843b15b2be49884cd31",
            "e16e0f304a544f74857cdb7015b5ed66",
            "7c9aae2a814d4b8ab72ad1133d4bf4f3",
            "a0a1d55430a14c469897c59d6e2c460b",
            "a8b9bc91c59145248b04093b734960f6"
          ]
        },
        "outputId": "4b48c2b1-1455-407c-901c-30480fccff77"
      },
      "source": [
        "#LOADING REQUIRED MNIST DATA\r\n",
        "\r\n",
        "train = datasets.MNIST('./data',download=True,train=True,transform= train_transforms)\r\n",
        "test  = datasets.MNIST('./data',download=True,train=False,transform= test_transforms)"
      ],
      "execution_count": 3,
      "outputs": [
        {
          "output_type": "stream",
          "text": [
            "Downloading http://yann.lecun.com/exdb/mnist/train-images-idx3-ubyte.gz to ./data/MNIST/raw/train-images-idx3-ubyte.gz\n"
          ],
          "name": "stdout"
        },
        {
          "output_type": "display_data",
          "data": {
            "application/vnd.jupyter.widget-view+json": {
              "model_id": "69e5da9d8d4042bd9411d68e52972abb",
              "version_minor": 0,
              "version_major": 2
            },
            "text/plain": [
              "HBox(children=(FloatProgress(value=1.0, bar_style='info', max=1.0), HTML(value='')))"
            ]
          },
          "metadata": {
            "tags": []
          }
        },
        {
          "output_type": "stream",
          "text": [
            "Extracting ./data/MNIST/raw/train-images-idx3-ubyte.gz to ./data/MNIST/raw\n",
            "Downloading http://yann.lecun.com/exdb/mnist/train-labels-idx1-ubyte.gz to ./data/MNIST/raw/train-labels-idx1-ubyte.gz\n"
          ],
          "name": "stdout"
        },
        {
          "output_type": "display_data",
          "data": {
            "application/vnd.jupyter.widget-view+json": {
              "model_id": "4fe7a8e467e5405e9db33b00e295c410",
              "version_minor": 0,
              "version_major": 2
            },
            "text/plain": [
              "HBox(children=(FloatProgress(value=1.0, bar_style='info', max=1.0), HTML(value='')))"
            ]
          },
          "metadata": {
            "tags": []
          }
        },
        {
          "output_type": "stream",
          "text": [
            "Extracting ./data/MNIST/raw/train-labels-idx1-ubyte.gz to ./data/MNIST/raw\n",
            "Downloading http://yann.lecun.com/exdb/mnist/t10k-images-idx3-ubyte.gz to ./data/MNIST/raw/t10k-images-idx3-ubyte.gz\n",
            "\n"
          ],
          "name": "stdout"
        },
        {
          "output_type": "display_data",
          "data": {
            "application/vnd.jupyter.widget-view+json": {
              "model_id": "8ed00cf8d32b400194a2692596f34036",
              "version_minor": 0,
              "version_major": 2
            },
            "text/plain": [
              "HBox(children=(FloatProgress(value=1.0, bar_style='info', max=1.0), HTML(value='')))"
            ]
          },
          "metadata": {
            "tags": []
          }
        },
        {
          "output_type": "stream",
          "text": [
            "Extracting ./data/MNIST/raw/t10k-images-idx3-ubyte.gz to ./data/MNIST/raw\n",
            "Downloading http://yann.lecun.com/exdb/mnist/t10k-labels-idx1-ubyte.gz to ./data/MNIST/raw/t10k-labels-idx1-ubyte.gz\n"
          ],
          "name": "stdout"
        },
        {
          "output_type": "display_data",
          "data": {
            "application/vnd.jupyter.widget-view+json": {
              "model_id": "b9d2ddd2517e49e892e34eb5890f38a5",
              "version_minor": 0,
              "version_major": 2
            },
            "text/plain": [
              "HBox(children=(FloatProgress(value=1.0, bar_style='info', max=1.0), HTML(value='')))"
            ]
          },
          "metadata": {
            "tags": []
          }
        },
        {
          "output_type": "stream",
          "text": [
            "Extracting ./data/MNIST/raw/t10k-labels-idx1-ubyte.gz to ./data/MNIST/raw\n",
            "Processing...\n",
            "Done!\n"
          ],
          "name": "stdout"
        },
        {
          "output_type": "stream",
          "text": [
            "/usr/local/lib/python3.6/dist-packages/torchvision/datasets/mnist.py:480: UserWarning: The given NumPy array is not writeable, and PyTorch does not support non-writeable tensors. This means you can write to the underlying (supposedly non-writeable) NumPy array using the tensor. You may want to copy the array to protect its data or make it writeable before converting it to a tensor. This type of warning will be suppressed for the rest of this program. (Triggered internally at  /pytorch/torch/csrc/utils/tensor_numpy.cpp:141.)\n",
            "  return torch.from_numpy(parsed.astype(m[2], copy=False)).view(*s)\n"
          ],
          "name": "stderr"
        }
      ]
    },
    {
      "cell_type": "code",
      "metadata": {
        "id": "ZwMKVICYiXsg"
      },
      "source": [
        "SEED = 1\r\n",
        "\r\n",
        "#CUDA?\r\n",
        "cuda = torch.cuda.is_available()\r\n",
        "#print(cuda)\r\n",
        "\r\n",
        "torch.manual_seed(SEED)\r\n",
        "\r\n",
        "if cuda:\r\n",
        "  torch.cuda.manual_seed(SEED)\r\n",
        "\r\n",
        "dataloader_args = dict(shuffle=True, batch_size = 128, num_workers=4,pin_memory=True) if cuda else dict(shuffle=True, batch_size=64)\r\n",
        "\r\n",
        "#train loader\r\n",
        "\r\n",
        "train_loader = torch.utils.data.DataLoader(train,**dataloader_args)\r\n",
        "\r\n",
        "#test loader\r\n",
        "\r\n",
        "test_loader = torch.utils.data.DataLoader(test,**dataloader_args)"
      ],
      "execution_count": 4,
      "outputs": []
    },
    {
      "cell_type": "code",
      "metadata": {
        "id": "h2W5lgR5f3R5"
      },
      "source": [
        "class Net(nn.Module):\r\n",
        "  def __init__(self):\r\n",
        "    super(Net,self).__init__()\r\n",
        "\r\n",
        "    self.conv1 = nn.Sequential(\r\n",
        "        nn.Conv2d(1,8,3,padding=1), #INPUT- 28X28X1 OUTPUT- 28X28X8 RF- 3\r\n",
        "        nn.BatchNorm2d(8),\r\n",
        "        nn.ReLU(),\r\n",
        "        nn.Dropout(0.01),\r\n",
        "        nn.Conv2d(8,8,3,padding=1), #INPUT- 28X28X8 OUTPUT- 28X28X8 RF- 5\r\n",
        "        nn.BatchNorm2d(8),\r\n",
        "        nn.ReLU(),\r\n",
        "        nn.Dropout(0.01),\r\n",
        "        nn.MaxPool2d(2,2) #RF- 6\r\n",
        "    )\r\n",
        "\r\n",
        "    self.conv2 = nn.Sequential(\r\n",
        "        nn.Conv2d(8,8,3,padding=0), #INPUT- 14X14X8 OUTPUT- 12X12X8 RF- 10\r\n",
        "        nn.BatchNorm2d(8),\r\n",
        "        nn.ReLU(),\r\n",
        "        nn.Dropout(0.01),\r\n",
        "        nn.Conv2d(8,8,3,padding=0), #INPUT- 12X12X8 OUTPUT- 10X10X8 RF-14\r\n",
        "        nn.BatchNorm2d(8),\r\n",
        "        nn.ReLU(),\r\n",
        "        nn.Dropout(0.01),\r\n",
        "        nn.Conv2d(8,8,3,padding=0), #INPUT- 10X10X8 OUTPUT- 8X8X8 RF- 18\r\n",
        "        nn.BatchNorm2d(8),\r\n",
        "        nn.ReLU(),\r\n",
        "        nn.Dropout(0.01),\r\n",
        "        nn.Conv2d(8,16,3,padding=0), #INPUT- 8X8X8 OUTPUT- 6X6X16 RF- 22\r\n",
        "        nn.BatchNorm2d(16),\r\n",
        "        nn.ReLU(),\r\n",
        "        nn.Dropout(0.01)\r\n",
        "        \r\n",
        "    )\r\n",
        "    self.conv3 = nn.Sequential(\r\n",
        "        nn.Conv2d(16,32,3), #INPUT- 6X6X16 OUTPUT- 4X4X32 RF-24\r\n",
        "        nn.BatchNorm2d(32),\r\n",
        "        nn.ReLU(),\r\n",
        "        nn.Dropout(0.01),\r\n",
        "        \r\n",
        "        nn.AvgPool2d(4), #INPUT- 4X4X32 OUTPUT- 1X1X32 RF-40\r\n",
        "        \r\n",
        "        nn.Conv2d(32,10,1) #INPUT- 1X1X32 OUTPUT- 1X1X10\r\n",
        "        \r\n",
        "    )\r\n",
        "\r\n",
        "  def forward(self,x):\r\n",
        "    x = self.conv1(x)\r\n",
        "    x = self.conv2(x)\r\n",
        "    x = self.conv3(x)\r\n",
        "    x = x.view(-1,10)\r\n",
        "    return F.log_softmax(x, dim=1)\r\n"
      ],
      "execution_count": 7,
      "outputs": []
    },
    {
      "cell_type": "code",
      "metadata": {
        "colab": {
          "base_uri": "https://localhost:8080/"
        },
        "id": "bCNbFbLTh_PW",
        "outputId": "447ae062-5f95-4b4a-de20-a21a00321576"
      },
      "source": [
        "!pip install torchsummary\r\n",
        "\r\n",
        "from torchsummary import summary\r\n",
        "\r\n",
        "device = torch.device(\"cuda\" if cuda else \"cpu\")\r\n",
        "print(device)\r\n",
        "\r\n",
        "model = Net().to(device)\r\n",
        "summary(model, input_size = (1, 28, 28))\r\n"
      ],
      "execution_count": 8,
      "outputs": [
        {
          "output_type": "stream",
          "text": [
            "Requirement already satisfied: torchsummary in /usr/local/lib/python3.6/dist-packages (1.5.1)\n",
            "cuda\n",
            "----------------------------------------------------------------\n",
            "        Layer (type)               Output Shape         Param #\n",
            "================================================================\n",
            "            Conv2d-1            [-1, 8, 28, 28]              80\n",
            "       BatchNorm2d-2            [-1, 8, 28, 28]              16\n",
            "              ReLU-3            [-1, 8, 28, 28]               0\n",
            "           Dropout-4            [-1, 8, 28, 28]               0\n",
            "            Conv2d-5            [-1, 8, 28, 28]             584\n",
            "       BatchNorm2d-6            [-1, 8, 28, 28]              16\n",
            "              ReLU-7            [-1, 8, 28, 28]               0\n",
            "           Dropout-8            [-1, 8, 28, 28]               0\n",
            "         MaxPool2d-9            [-1, 8, 14, 14]               0\n",
            "           Conv2d-10            [-1, 8, 12, 12]             584\n",
            "      BatchNorm2d-11            [-1, 8, 12, 12]              16\n",
            "             ReLU-12            [-1, 8, 12, 12]               0\n",
            "          Dropout-13            [-1, 8, 12, 12]               0\n",
            "           Conv2d-14            [-1, 8, 10, 10]             584\n",
            "      BatchNorm2d-15            [-1, 8, 10, 10]              16\n",
            "             ReLU-16            [-1, 8, 10, 10]               0\n",
            "          Dropout-17            [-1, 8, 10, 10]               0\n",
            "           Conv2d-18              [-1, 8, 8, 8]             584\n",
            "      BatchNorm2d-19              [-1, 8, 8, 8]              16\n",
            "             ReLU-20              [-1, 8, 8, 8]               0\n",
            "          Dropout-21              [-1, 8, 8, 8]               0\n",
            "           Conv2d-22             [-1, 16, 6, 6]           1,168\n",
            "      BatchNorm2d-23             [-1, 16, 6, 6]              32\n",
            "             ReLU-24             [-1, 16, 6, 6]               0\n",
            "          Dropout-25             [-1, 16, 6, 6]               0\n",
            "           Conv2d-26             [-1, 32, 4, 4]           4,640\n",
            "      BatchNorm2d-27             [-1, 32, 4, 4]              64\n",
            "             ReLU-28             [-1, 32, 4, 4]               0\n",
            "          Dropout-29             [-1, 32, 4, 4]               0\n",
            "        AvgPool2d-30             [-1, 32, 1, 1]               0\n",
            "           Conv2d-31             [-1, 10, 1, 1]             330\n",
            "================================================================\n",
            "Total params: 8,730\n",
            "Trainable params: 8,730\n",
            "Non-trainable params: 0\n",
            "----------------------------------------------------------------\n",
            "Input size (MB): 0.00\n",
            "Forward/backward pass size (MB): 0.50\n",
            "Params size (MB): 0.03\n",
            "Estimated Total Size (MB): 0.54\n",
            "----------------------------------------------------------------\n"
          ],
          "name": "stdout"
        }
      ]
    },
    {
      "cell_type": "code",
      "metadata": {
        "id": "K0i5BaTQiobM"
      },
      "source": [
        "from tqdm import tqdm\r\n",
        "\r\n",
        "train_losses = []\r\n",
        "test_losses = []\r\n",
        "train_acc = []\r\n",
        "test_acc = []\r\n",
        "\r\n",
        "def train(model,device,train_loader,optimizer,epoch):\r\n",
        "  model.train()\r\n",
        "  pbar = tqdm(train_loader)\r\n",
        "  correct = 0\r\n",
        "  processed = 0\r\n",
        "  \r\n",
        "  for batch_id,(data, target) in enumerate(pbar):\r\n",
        "    data, target = data.to(device), target.to(device)\r\n",
        "    optimizer.zero_grad()\r\n",
        "\r\n",
        "    y_pred = model(data)\r\n",
        "\r\n",
        "    loss= F.nll_loss(y_pred,target)\r\n",
        "    train_losses.append(loss)\r\n",
        "\r\n",
        "    loss.backward()\r\n",
        "    optimizer.step()\r\n",
        "\r\n",
        "    pred = y_pred.argmax(dim=1, keepdim=True)\r\n",
        "    correct += pred.eq(target.view_as(pred)).sum().item()\r\n",
        "    processed+= len(data)\r\n",
        "\r\n",
        "    pbar.set_description(desc= f'Loss={loss.item()} Batch_size={batch_id} Accuracy={100*correct/processed:0.2f}')\r\n",
        "    train_acc.append(100*correct/processed)\r\n",
        "\r\n",
        "def test(model,device,test_loader):\r\n",
        "  model.eval()\r\n",
        "  test_loss = 0\r\n",
        "  correct = 0\r\n",
        "  with torch.no_grad():\r\n",
        "    for data, target in test_loader:\r\n",
        "      data, target = data.to(device), target.to(device)\r\n",
        "      output = model(data)\r\n",
        "      test_loss = F.nll_loss(output, target, reduction='sum').item()\r\n",
        "      pred = output.argmax(dim= 1,keepdim=True)\r\n",
        "      correct+= pred.eq(target.view_as(pred)).sum().item()\r\n",
        "\r\n",
        "  test_loss /= len(test_loader.dataset)\r\n",
        "  test_losses.append(test_loss)\r\n",
        "\r\n",
        "  print('\\nTest set: Average loss: {:.4f}, Acccuracy= {}/{} ({:.2f}%)\\n'.format(\r\n",
        "      test_loss, correct, len(test_loader.dataset),\r\n",
        "      100.*correct/len(test_loader.dataset)))\r\n",
        "  \r\n",
        "  test_acc.append(100.*correct/len(test_loader.dataset))\r\n",
        "\r\n"
      ],
      "execution_count": 9,
      "outputs": []
    },
    {
      "cell_type": "code",
      "metadata": {
        "colab": {
          "base_uri": "https://localhost:8080/"
        },
        "id": "2n6F3NK6yKqo",
        "outputId": "ab6602f0-7448-4717-c06c-f32f2c344554"
      },
      "source": [
        "from torch.optim.lr_scheduler import StepLR,OneCycleLR\r\n",
        "\r\n",
        "\r\n",
        "model = Net().to(device)\r\n",
        "optimizer = optim.SGD(model.parameters(),lr=0.01,momentum=0.9)\r\n",
        "scheduler = StepLR(optimizer, step_size=6, gamma=0.1)\r\n",
        "EPOCHS = 20\r\n",
        "\r\n",
        "for epoch in range(EPOCHS):\r\n",
        "  print(\"EPOCH: \",epoch,\"Last LR: \",scheduler.get_last_lr())\r\n",
        "  train(model,device,train_loader,optimizer,epoch)\r\n",
        "  scheduler.step()\r\n",
        "  test (model,device,test_loader)\r\n",
        "  "
      ],
      "execution_count": 10,
      "outputs": [
        {
          "output_type": "stream",
          "text": [
            "\r  0%|          | 0/469 [00:00<?, ?it/s]"
          ],
          "name": "stderr"
        },
        {
          "output_type": "stream",
          "text": [
            "EPOCH:  0 Last LR:  [0.01]\n"
          ],
          "name": "stdout"
        },
        {
          "output_type": "stream",
          "text": [
            "Loss=0.10405347496271133 Batch_size=468 Accuracy=87.56: 100%|██████████| 469/469 [00:16<00:00, 28.51it/s]\n",
            "  0%|          | 0/469 [00:00<?, ?it/s]"
          ],
          "name": "stderr"
        },
        {
          "output_type": "stream",
          "text": [
            "\n",
            "Test set: Average loss: 0.0001, Acccuracy= 9831/10000 (98.31%)\n",
            "\n",
            "EPOCH:  1 Last LR:  [0.01]\n"
          ],
          "name": "stdout"
        },
        {
          "output_type": "stream",
          "text": [
            "Loss=0.19441509246826172 Batch_size=468 Accuracy=97.56: 100%|██████████| 469/469 [00:16<00:00, 28.21it/s]\n",
            "  0%|          | 0/469 [00:00<?, ?it/s]"
          ],
          "name": "stderr"
        },
        {
          "output_type": "stream",
          "text": [
            "\n",
            "Test set: Average loss: 0.0000, Acccuracy= 9861/10000 (98.61%)\n",
            "\n",
            "EPOCH:  2 Last LR:  [0.01]\n"
          ],
          "name": "stdout"
        },
        {
          "output_type": "stream",
          "text": [
            "Loss=0.08435481041669846 Batch_size=468 Accuracy=98.00: 100%|██████████| 469/469 [00:16<00:00, 28.56it/s]\n",
            "  0%|          | 0/469 [00:00<?, ?it/s]"
          ],
          "name": "stderr"
        },
        {
          "output_type": "stream",
          "text": [
            "\n",
            "Test set: Average loss: 0.0004, Acccuracy= 9883/10000 (98.83%)\n",
            "\n",
            "EPOCH:  3 Last LR:  [0.01]\n"
          ],
          "name": "stdout"
        },
        {
          "output_type": "stream",
          "text": [
            "Loss=0.03993356227874756 Batch_size=468 Accuracy=98.32: 100%|██████████| 469/469 [00:16<00:00, 28.56it/s]\n",
            "  0%|          | 0/469 [00:00<?, ?it/s]"
          ],
          "name": "stderr"
        },
        {
          "output_type": "stream",
          "text": [
            "\n",
            "Test set: Average loss: 0.0000, Acccuracy= 9916/10000 (99.16%)\n",
            "\n",
            "EPOCH:  4 Last LR:  [0.01]\n"
          ],
          "name": "stdout"
        },
        {
          "output_type": "stream",
          "text": [
            "Loss=0.02388674020767212 Batch_size=468 Accuracy=98.44: 100%|██████████| 469/469 [00:16<00:00, 28.34it/s]\n",
            "  0%|          | 0/469 [00:00<?, ?it/s]"
          ],
          "name": "stderr"
        },
        {
          "output_type": "stream",
          "text": [
            "\n",
            "Test set: Average loss: 0.0001, Acccuracy= 9896/10000 (98.96%)\n",
            "\n",
            "EPOCH:  5 Last LR:  [0.01]\n"
          ],
          "name": "stdout"
        },
        {
          "output_type": "stream",
          "text": [
            "Loss=0.11840467900037766 Batch_size=468 Accuracy=98.60: 100%|██████████| 469/469 [00:16<00:00, 28.53it/s]\n",
            "  0%|          | 0/469 [00:00<?, ?it/s]"
          ],
          "name": "stderr"
        },
        {
          "output_type": "stream",
          "text": [
            "\n",
            "Test set: Average loss: 0.0000, Acccuracy= 9921/10000 (99.21%)\n",
            "\n",
            "EPOCH:  6 Last LR:  [0.001]\n"
          ],
          "name": "stdout"
        },
        {
          "output_type": "stream",
          "text": [
            "Loss=0.01930028386414051 Batch_size=468 Accuracy=98.86: 100%|██████████| 469/469 [00:16<00:00, 28.36it/s]\n",
            "  0%|          | 0/469 [00:00<?, ?it/s]"
          ],
          "name": "stderr"
        },
        {
          "output_type": "stream",
          "text": [
            "\n",
            "Test set: Average loss: 0.0000, Acccuracy= 9940/10000 (99.40%)\n",
            "\n",
            "EPOCH:  7 Last LR:  [0.001]\n"
          ],
          "name": "stdout"
        },
        {
          "output_type": "stream",
          "text": [
            "Loss=0.05699242278933525 Batch_size=468 Accuracy=98.97: 100%|██████████| 469/469 [00:16<00:00, 28.74it/s]\n",
            "  0%|          | 0/469 [00:00<?, ?it/s]"
          ],
          "name": "stderr"
        },
        {
          "output_type": "stream",
          "text": [
            "\n",
            "Test set: Average loss: 0.0000, Acccuracy= 9951/10000 (99.51%)\n",
            "\n",
            "EPOCH:  8 Last LR:  [0.001]\n"
          ],
          "name": "stdout"
        },
        {
          "output_type": "stream",
          "text": [
            "Loss=0.0025347541086375713 Batch_size=468 Accuracy=98.97: 100%|██████████| 469/469 [00:16<00:00, 28.34it/s]\n",
            "  0%|          | 0/469 [00:00<?, ?it/s]"
          ],
          "name": "stderr"
        },
        {
          "output_type": "stream",
          "text": [
            "\n",
            "Test set: Average loss: 0.0000, Acccuracy= 9941/10000 (99.41%)\n",
            "\n",
            "EPOCH:  9 Last LR:  [0.001]\n"
          ],
          "name": "stdout"
        },
        {
          "output_type": "stream",
          "text": [
            "Loss=0.0897146537899971 Batch_size=468 Accuracy=98.89: 100%|██████████| 469/469 [00:16<00:00, 28.66it/s]\n",
            "  0%|          | 0/469 [00:00<?, ?it/s]"
          ],
          "name": "stderr"
        },
        {
          "output_type": "stream",
          "text": [
            "\n",
            "Test set: Average loss: 0.0000, Acccuracy= 9944/10000 (99.44%)\n",
            "\n",
            "EPOCH:  10 Last LR:  [0.001]\n"
          ],
          "name": "stdout"
        },
        {
          "output_type": "stream",
          "text": [
            "Loss=0.009367796592414379 Batch_size=468 Accuracy=98.94: 100%|██████████| 469/469 [00:16<00:00, 28.40it/s]\n",
            "  0%|          | 0/469 [00:00<?, ?it/s]"
          ],
          "name": "stderr"
        },
        {
          "output_type": "stream",
          "text": [
            "\n",
            "Test set: Average loss: 0.0000, Acccuracy= 9945/10000 (99.45%)\n",
            "\n",
            "EPOCH:  11 Last LR:  [0.001]\n"
          ],
          "name": "stdout"
        },
        {
          "output_type": "stream",
          "text": [
            "Loss=0.017689356580376625 Batch_size=468 Accuracy=98.94: 100%|██████████| 469/469 [00:16<00:00, 28.44it/s]\n",
            "  0%|          | 0/469 [00:00<?, ?it/s]"
          ],
          "name": "stderr"
        },
        {
          "output_type": "stream",
          "text": [
            "\n",
            "Test set: Average loss: 0.0000, Acccuracy= 9943/10000 (99.43%)\n",
            "\n",
            "EPOCH:  12 Last LR:  [0.0001]\n"
          ],
          "name": "stdout"
        },
        {
          "output_type": "stream",
          "text": [
            "Loss=0.020634207874536514 Batch_size=468 Accuracy=98.97: 100%|██████████| 469/469 [00:16<00:00, 28.17it/s]\n",
            "  0%|          | 0/469 [00:00<?, ?it/s]"
          ],
          "name": "stderr"
        },
        {
          "output_type": "stream",
          "text": [
            "\n",
            "Test set: Average loss: 0.0000, Acccuracy= 9949/10000 (99.49%)\n",
            "\n",
            "EPOCH:  13 Last LR:  [0.0001]\n"
          ],
          "name": "stdout"
        },
        {
          "output_type": "stream",
          "text": [
            "Loss=0.032936930656433105 Batch_size=468 Accuracy=99.00: 100%|██████████| 469/469 [00:16<00:00, 28.58it/s]\n",
            "  0%|          | 0/469 [00:00<?, ?it/s]"
          ],
          "name": "stderr"
        },
        {
          "output_type": "stream",
          "text": [
            "\n",
            "Test set: Average loss: 0.0000, Acccuracy= 9948/10000 (99.48%)\n",
            "\n",
            "EPOCH:  14 Last LR:  [0.0001]\n"
          ],
          "name": "stdout"
        },
        {
          "output_type": "stream",
          "text": [
            "Loss=0.06746562570333481 Batch_size=468 Accuracy=99.01: 100%|██████████| 469/469 [00:16<00:00, 28.63it/s]\n",
            "  0%|          | 0/469 [00:00<?, ?it/s]"
          ],
          "name": "stderr"
        },
        {
          "output_type": "stream",
          "text": [
            "\n",
            "Test set: Average loss: 0.0000, Acccuracy= 9951/10000 (99.51%)\n",
            "\n",
            "EPOCH:  15 Last LR:  [0.0001]\n"
          ],
          "name": "stdout"
        },
        {
          "output_type": "stream",
          "text": [
            "Loss=0.008842443116009235 Batch_size=468 Accuracy=99.00: 100%|██████████| 469/469 [00:16<00:00, 28.84it/s]\n",
            "  0%|          | 0/469 [00:00<?, ?it/s]"
          ],
          "name": "stderr"
        },
        {
          "output_type": "stream",
          "text": [
            "\n",
            "Test set: Average loss: 0.0000, Acccuracy= 9946/10000 (99.46%)\n",
            "\n",
            "EPOCH:  16 Last LR:  [0.0001]\n"
          ],
          "name": "stdout"
        },
        {
          "output_type": "stream",
          "text": [
            "Loss=0.015540041029453278 Batch_size=468 Accuracy=99.01: 100%|██████████| 469/469 [00:16<00:00, 28.82it/s]\n",
            "  0%|          | 0/469 [00:00<?, ?it/s]"
          ],
          "name": "stderr"
        },
        {
          "output_type": "stream",
          "text": [
            "\n",
            "Test set: Average loss: 0.0000, Acccuracy= 9947/10000 (99.47%)\n",
            "\n",
            "EPOCH:  17 Last LR:  [0.0001]\n"
          ],
          "name": "stdout"
        },
        {
          "output_type": "stream",
          "text": [
            "Loss=0.003437791019678116 Batch_size=468 Accuracy=99.01: 100%|██████████| 469/469 [00:16<00:00, 28.30it/s]\n",
            "  0%|          | 0/469 [00:00<?, ?it/s]"
          ],
          "name": "stderr"
        },
        {
          "output_type": "stream",
          "text": [
            "\n",
            "Test set: Average loss: 0.0000, Acccuracy= 9949/10000 (99.49%)\n",
            "\n",
            "EPOCH:  18 Last LR:  [1e-05]\n"
          ],
          "name": "stdout"
        },
        {
          "output_type": "stream",
          "text": [
            "Loss=0.07325083762407303 Batch_size=468 Accuracy=98.97: 100%|██████████| 469/469 [00:16<00:00, 28.67it/s]\n",
            "  0%|          | 0/469 [00:00<?, ?it/s]"
          ],
          "name": "stderr"
        },
        {
          "output_type": "stream",
          "text": [
            "\n",
            "Test set: Average loss: 0.0000, Acccuracy= 9948/10000 (99.48%)\n",
            "\n",
            "EPOCH:  19 Last LR:  [1e-05]\n"
          ],
          "name": "stdout"
        },
        {
          "output_type": "stream",
          "text": [
            "Loss=0.0770743116736412 Batch_size=468 Accuracy=98.95: 100%|██████████| 469/469 [00:16<00:00, 28.95it/s]\n"
          ],
          "name": "stderr"
        },
        {
          "output_type": "stream",
          "text": [
            "\n",
            "Test set: Average loss: 0.0001, Acccuracy= 9947/10000 (99.47%)\n",
            "\n"
          ],
          "name": "stdout"
        }
      ]
    },
    {
      "cell_type": "code",
      "metadata": {
        "colab": {
          "base_uri": "https://localhost:8080/",
          "height": 625
        },
        "id": "_7BZr-QIzgTr",
        "outputId": "8ac2943f-9531-48d4-a6f6-2a0e83ece900"
      },
      "source": [
        "%matplotlib inline\r\n",
        "import matplotlib.pyplot as plt\r\n",
        "\r\n",
        "\r\n",
        "fig, axs = plt.subplots(2,2, figsize=(15,10))\r\n",
        "axs[0, 0].plot(train_losses)\r\n",
        "axs[0, 0].set_title(\"Training Loss\")\r\n",
        "axs[1, 0].plot(train_acc)\r\n",
        "axs[1, 0].set_title(\"Training Accuracy\")\r\n",
        "axs[0, 1].plot(test_losses)\r\n",
        "axs[0, 1].set_title(\"Test Loss\")\r\n",
        "axs[1, 1].plot(test_acc)\r\n",
        "axs[1, 1].set_title(\"Test Accuracy\")"
      ],
      "execution_count": 12,
      "outputs": [
        {
          "output_type": "execute_result",
          "data": {
            "text/plain": [
              "Text(0.5, 1.0, 'Test Accuracy')"
            ]
          },
          "metadata": {
            "tags": []
          },
          "execution_count": 12
        },
        {
          "output_type": "display_data",
          "data": {
            "image/png": "[encoded data removed]",
            "text/plain": [
              "<Figure size 1080x720 with 4 Axes>"
            ]
          },
          "metadata": {
            "tags": [],
            "needs_background": "light"
          }
        }
      ]
    },
    {
      "cell_type": "markdown",
      "metadata": {
        "id": "VQjv1Qzw_lQw"
      },
      "source": [
        "Target:\r\n",
        "\r\n",
        "        Add LR scheduler to further increase the learning speed\r\n",
        "\r\n",
        "Results:\r\n",
        "\r\n",
        "        Parameters: 8,730\r\n",
        "        Best Train Accuracy: 99.01\r\n",
        "        Best Test Accuracy: 99.51\r\n",
        "\r\n",
        "Analysis:\r\n",
        "\r\n",
        "        We have succesfully achieved the target of 99.4 consistently within\r\n",
        "        15 epochs.\r\n",
        "\r\n",
        "\r\n"
      ]
    }
  ]
}