{
  "nbformat": 4,
  "nbformat_minor": 0,
  "metadata": {
    "colab": {
      "name": "File1",
      "provenance": [],
      "collapsed_sections": [],
      "authorship_tag": "ABX9TyN6i6wje7oPIWv3yZO/TSPF",
      "include_colab_link": true
    },
    "kernelspec": {
      "name": "python3",
      "display_name": "Python 3"
    },
    "accelerator": "GPU",
    "widgets": {
      "application/vnd.jupyter.widget-state+json": {
        "63de88d2a9a245c4be0db0cddcb9e7d3": {
          "model_module": "@jupyter-widgets/controls",
          "model_name": "HBoxModel",
          "state": {
            "_view_name": "HBoxView",
            "_dom_classes": [],
            "_model_name": "HBoxModel",
            "_view_module": "@jupyter-widgets/controls",
            "_model_module_version": "1.5.0",
            "_view_count": null,
            "_view_module_version": "1.5.0",
            "box_style": "",
            "layout": "IPY_MODEL_37ed0930cec845b0a09856a3cc3f96be",
            "_model_module": "@jupyter-widgets/controls",
            "children": [
              "IPY_MODEL_2dbbc5e167d5490190c3d19e0048eb40",
              "IPY_MODEL_ad7a43d3e6554e14b8750bfe18263921"
            ]
          }
        },
        "37ed0930cec845b0a09856a3cc3f96be": {
          "model_module": "@jupyter-widgets/base",
          "model_name": "LayoutModel",
          "state": {
            "_view_name": "LayoutView",
            "grid_template_rows": null,
            "right": null,
            "justify_content": null,
            "_view_module": "@jupyter-widgets/base",
            "overflow": null,
            "_model_module_version": "1.2.0",
            "_view_count": null,
            "flex_flow": null,
            "width": null,
            "min_width": null,
            "border": null,
            "align_items": null,
            "bottom": null,
            "_model_module": "@jupyter-widgets/base",
            "top": null,
            "grid_column": null,
            "overflow_y": null,
            "overflow_x": null,
            "grid_auto_flow": null,
            "grid_area": null,
            "grid_template_columns": null,
            "flex": null,
            "_model_name": "LayoutModel",
            "justify_items": null,
            "grid_row": null,
            "max_height": null,
            "align_content": null,
            "visibility": null,
            "align_self": null,
            "height": null,
            "min_height": null,
            "padding": null,
            "grid_auto_rows": null,
            "grid_gap": null,
            "max_width": null,
            "order": null,
            "_view_module_version": "1.2.0",
            "grid_template_areas": null,
            "object_position": null,
            "object_fit": null,
            "grid_auto_columns": null,
            "margin": null,
            "display": null,
            "left": null
          }
        },
        "2dbbc5e167d5490190c3d19e0048eb40": {
          "model_module": "@jupyter-widgets/controls",
          "model_name": "FloatProgressModel",
          "state": {
            "_view_name": "ProgressView",
            "style": "IPY_MODEL_60928b6a626d4c24a3fa00acf94694c5",
            "_dom_classes": [],
            "description": "",
            "_model_name": "FloatProgressModel",
            "bar_style": "info",
            "max": 1,
            "_view_module": "@jupyter-widgets/controls",
            "_model_module_version": "1.5.0",
            "value": 1,
            "_view_count": null,
            "_view_module_version": "1.5.0",
            "orientation": "horizontal",
            "min": 0,
            "description_tooltip": null,
            "_model_module": "@jupyter-widgets/controls",
            "layout": "IPY_MODEL_b14ffe5e9f0d436a959692aca0fe23bd"
          }
        },
        "ad7a43d3e6554e14b8750bfe18263921": {
          "model_module": "@jupyter-widgets/controls",
          "model_name": "HTMLModel",
          "state": {
            "_view_name": "HTMLView",
            "style": "IPY_MODEL_44b340871bba44cea2212ec2cb04b97e",
            "_dom_classes": [],
            "description": "",
            "_model_name": "HTMLModel",
            "placeholder": "​",
            "_view_module": "@jupyter-widgets/controls",
            "_model_module_version": "1.5.0",
            "value": " 9920512/? [00:20&lt;00:00, 179356.37it/s]",
            "_view_count": null,
            "_view_module_version": "1.5.0",
            "description_tooltip": null,
            "_model_module": "@jupyter-widgets/controls",
            "layout": "IPY_MODEL_6f0411ea6f8047e0b69988cc05c4abec"
          }
        },
        "60928b6a626d4c24a3fa00acf94694c5": {
          "model_module": "@jupyter-widgets/controls",
          "model_name": "ProgressStyleModel",
          "state": {
            "_view_name": "StyleView",
            "_model_name": "ProgressStyleModel",
            "description_width": "initial",
            "_view_module": "@jupyter-widgets/base",
            "_model_module_version": "1.5.0",
            "_view_count": null,
            "_view_module_version": "1.2.0",
            "bar_color": null,
            "_model_module": "@jupyter-widgets/controls"
          }
        },
        "b14ffe5e9f0d436a959692aca0fe23bd": {
          "model_module": "@jupyter-widgets/base",
          "model_name": "LayoutModel",
          "state": {
            "_view_name": "LayoutView",
            "grid_template_rows": null,
            "right": null,
            "justify_content": null,
            "_view_module": "@jupyter-widgets/base",
            "overflow": null,
            "_model_module_version": "1.2.0",
            "_view_count": null,
            "flex_flow": null,
            "width": null,
            "min_width": null,
            "border": null,
            "align_items": null,
            "bottom": null,
            "_model_module": "@jupyter-widgets/base",
            "top": null,
            "grid_column": null,
            "overflow_y": null,
            "overflow_x": null,
            "grid_auto_flow": null,
            "grid_area": null,
            "grid_template_columns": null,
            "flex": null,
            "_model_name": "LayoutModel",
            "justify_items": null,
            "grid_row": null,
            "max_height": null,
            "align_content": null,
            "visibility": null,
            "align_self": null,
            "height": null,
            "min_height": null,
            "padding": null,
            "grid_auto_rows": null,
            "grid_gap": null,
            "max_width": null,
            "order": null,
            "_view_module_version": "1.2.0",
            "grid_template_areas": null,
            "object_position": null,
            "object_fit": null,
            "grid_auto_columns": null,
            "margin": null,
            "display": null,
            "left": null
          }
        },
        "44b340871bba44cea2212ec2cb04b97e": {
          "model_module": "@jupyter-widgets/controls",
          "model_name": "DescriptionStyleModel",
          "state": {
            "_view_name": "StyleView",
            "_model_name": "DescriptionStyleModel",
            "description_width": "",
            "_view_module": "@jupyter-widgets/base",
            "_model_module_version": "1.5.0",
            "_view_count": null,
            "_view_module_version": "1.2.0",
            "_model_module": "@jupyter-widgets/controls"
          }
        },
        "6f0411ea6f8047e0b69988cc05c4abec": {
          "model_module": "@jupyter-widgets/base",
          "model_name": "LayoutModel",
          "state": {
            "_view_name": "LayoutView",
            "grid_template_rows": null,
            "right": null,
            "justify_content": null,
            "_view_module": "@jupyter-widgets/base",
            "overflow": null,
            "_model_module_version": "1.2.0",
            "_view_count": null,
            "flex_flow": null,
            "width": null,
            "min_width": null,
            "border": null,
            "align_items": null,
            "bottom": null,
            "_model_module": "@jupyter-widgets/base",
            "top": null,
            "grid_column": null,
            "overflow_y": null,
            "overflow_x": null,
            "grid_auto_flow": null,
            "grid_area": null,
            "grid_template_columns": null,
            "flex": null,
            "_model_name": "LayoutModel",
            "justify_items": null,
            "grid_row": null,
            "max_height": null,
            "align_content": null,
            "visibility": null,
            "align_self": null,
            "height": null,
            "min_height": null,
            "padding": null,
            "grid_auto_rows": null,
            "grid_gap": null,
            "max_width": null,
            "order": null,
            "_view_module_version": "1.2.0",
            "grid_template_areas": null,
            "object_position": null,
            "object_fit": null,
            "grid_auto_columns": null,
            "margin": null,
            "display": null,
            "left": null
          }
        },
        "a68ea27fd73b4153b207e65d15faaa92": {
          "model_module": "@jupyter-widgets/controls",
          "model_name": "HBoxModel",
          "state": {
            "_view_name": "HBoxView",
            "_dom_classes": [],
            "_model_name": "HBoxModel",
            "_view_module": "@jupyter-widgets/controls",
            "_model_module_version": "1.5.0",
            "_view_count": null,
            "_view_module_version": "1.5.0",
            "box_style": "",
            "layout": "IPY_MODEL_e1a7e1ed35694a9d851c8e513cd922cc",
            "_model_module": "@jupyter-widgets/controls",
            "children": [
              "IPY_MODEL_3e819d631b684745a639393cdb919804",
              "IPY_MODEL_543906d1c8194d889d6f130722db3657"
            ]
          }
        },
        "e1a7e1ed35694a9d851c8e513cd922cc": {
          "model_module": "@jupyter-widgets/base",
          "model_name": "LayoutModel",
          "state": {
            "_view_name": "LayoutView",
            "grid_template_rows": null,
            "right": null,
            "justify_content": null,
            "_view_module": "@jupyter-widgets/base",
            "overflow": null,
            "_model_module_version": "1.2.0",
            "_view_count": null,
            "flex_flow": null,
            "width": null,
            "min_width": null,
            "border": null,
            "align_items": null,
            "bottom": null,
            "_model_module": "@jupyter-widgets/base",
            "top": null,
            "grid_column": null,
            "overflow_y": null,
            "overflow_x": null,
            "grid_auto_flow": null,
            "grid_area": null,
            "grid_template_columns": null,
            "flex": null,
            "_model_name": "LayoutModel",
            "justify_items": null,
            "grid_row": null,
            "max_height": null,
            "align_content": null,
            "visibility": null,
            "align_self": null,
            "height": null,
            "min_height": null,
            "padding": null,
            "grid_auto_rows": null,
            "grid_gap": null,
            "max_width": null,
            "order": null,
            "_view_module_version": "1.2.0",
            "grid_template_areas": null,
            "object_position": null,
            "object_fit": null,
            "grid_auto_columns": null,
            "margin": null,
            "display": null,
            "left": null
          }
        },
        "3e819d631b684745a639393cdb919804": {
          "model_module": "@jupyter-widgets/controls",
          "model_name": "FloatProgressModel",
          "state": {
            "_view_name": "ProgressView",
            "style": "IPY_MODEL_9987028f5be5463e902b55b4abee0318",
            "_dom_classes": [],
            "description": "",
            "_model_name": "FloatProgressModel",
            "bar_style": "success",
            "max": 1,
            "_view_module": "@jupyter-widgets/controls",
            "_model_module_version": "1.5.0",
            "value": 1,
            "_view_count": null,
            "_view_module_version": "1.5.0",
            "orientation": "horizontal",
            "min": 0,
            "description_tooltip": null,
            "_model_module": "@jupyter-widgets/controls",
            "layout": "IPY_MODEL_aaf400cf29b54ced927bf48d1c9138d2"
          }
        },
        "543906d1c8194d889d6f130722db3657": {
          "model_module": "@jupyter-widgets/controls",
          "model_name": "HTMLModel",
          "state": {
            "_view_name": "HTMLView",
            "style": "IPY_MODEL_ad1ea41fe9b045f5b2f31146eb3b72c7",
            "_dom_classes": [],
            "description": "",
            "_model_name": "HTMLModel",
            "placeholder": "​",
            "_view_module": "@jupyter-widgets/controls",
            "_model_module_version": "1.5.0",
            "value": " 32768/? [00:00&lt;00:00, 394073.24it/s]",
            "_view_count": null,
            "_view_module_version": "1.5.0",
            "description_tooltip": null,
            "_model_module": "@jupyter-widgets/controls",
            "layout": "IPY_MODEL_4e4174e0fc734078bf86137ccba83bac"
          }
        },
        "9987028f5be5463e902b55b4abee0318": {
          "model_module": "@jupyter-widgets/controls",
          "model_name": "ProgressStyleModel",
          "state": {
            "_view_name": "StyleView",
            "_model_name": "ProgressStyleModel",
            "description_width": "initial",
            "_view_module": "@jupyter-widgets/base",
            "_model_module_version": "1.5.0",
            "_view_count": null,
            "_view_module_version": "1.2.0",
            "bar_color": null,
            "_model_module": "@jupyter-widgets/controls"
          }
        },
        "aaf400cf29b54ced927bf48d1c9138d2": {
          "model_module": "@jupyter-widgets/base",
          "model_name": "LayoutModel",
          "state": {
            "_view_name": "LayoutView",
            "grid_template_rows": null,
            "right": null,
            "justify_content": null,
            "_view_module": "@jupyter-widgets/base",
            "overflow": null,
            "_model_module_version": "1.2.0",
            "_view_count": null,
            "flex_flow": null,
            "width": null,
            "min_width": null,
            "border": null,
            "align_items": null,
            "bottom": null,
            "_model_module": "@jupyter-widgets/base",
            "top": null,
            "grid_column": null,
            "overflow_y": null,
            "overflow_x": null,
            "grid_auto_flow": null,
            "grid_area": null,
            "grid_template_columns": null,
            "flex": null,
            "_model_name": "LayoutModel",
            "justify_items": null,
            "grid_row": null,
            "max_height": null,
            "align_content": null,
            "visibility": null,
            "align_self": null,
            "height": null,
            "min_height": null,
            "padding": null,
            "grid_auto_rows": null,
            "grid_gap": null,
            "max_width": null,
            "order": null,
            "_view_module_version": "1.2.0",
            "grid_template_areas": null,
            "object_position": null,
            "object_fit": null,
            "grid_auto_columns": null,
            "margin": null,
            "display": null,
            "left": null
          }
        },
        "ad1ea41fe9b045f5b2f31146eb3b72c7": {
          "model_module": "@jupyter-widgets/controls",
          "model_name": "DescriptionStyleModel",
          "state": {
            "_view_name": "StyleView",
            "_model_name": "DescriptionStyleModel",
            "description_width": "",
            "_view_module": "@jupyter-widgets/base",
            "_model_module_version": "1.5.0",
            "_view_count": null,
            "_view_module_version": "1.2.0",
            "_model_module": "@jupyter-widgets/controls"
          }
        },
        "4e4174e0fc734078bf86137ccba83bac": {
          "model_module": "@jupyter-widgets/base",
          "model_name": "LayoutModel",
          "state": {
            "_view_name": "LayoutView",
            "grid_template_rows": null,
            "right": null,
            "justify_content": null,
            "_view_module": "@jupyter-widgets/base",
            "overflow": null,
            "_model_module_version": "1.2.0",
            "_view_count": null,
            "flex_flow": null,
            "width": null,
            "min_width": null,
            "border": null,
            "align_items": null,
            "bottom": null,
            "_model_module": "@jupyter-widgets/base",
            "top": null,
            "grid_column": null,
            "overflow_y": null,
            "overflow_x": null,
            "grid_auto_flow": null,
            "grid_area": null,
            "grid_template_columns": null,
            "flex": null,
            "_model_name": "LayoutModel",
            "justify_items": null,
            "grid_row": null,
            "max_height": null,
            "align_content": null,
            "visibility": null,
            "align_self": null,
            "height": null,
            "min_height": null,
            "padding": null,
            "grid_auto_rows": null,
            "grid_gap": null,
            "max_width": null,
            "order": null,
            "_view_module_version": "1.2.0",
            "grid_template_areas": null,
            "object_position": null,
            "object_fit": null,
            "grid_auto_columns": null,
            "margin": null,
            "display": null,
            "left": null
          }
        },
        "eb4defe586c945409b41a6e1c35efc32": {
          "model_module": "@jupyter-widgets/controls",
          "model_name": "HBoxModel",
          "state": {
            "_view_name": "HBoxView",
            "_dom_classes": [],
            "_model_name": "HBoxModel",
            "_view_module": "@jupyter-widgets/controls",
            "_model_module_version": "1.5.0",
            "_view_count": null,
            "_view_module_version": "1.5.0",
            "box_style": "",
            "layout": "IPY_MODEL_3bbb9f5a97f849b8b708aae4c192f8fc",
            "_model_module": "@jupyter-widgets/controls",
            "children": [
              "IPY_MODEL_bc870aa3b8544421a78e6de47093c0f5",
              "IPY_MODEL_6957c822a01f4d25848a3ba8cb31d7b8"
            ]
          }
        },
        "3bbb9f5a97f849b8b708aae4c192f8fc": {
          "model_module": "@jupyter-widgets/base",
          "model_name": "LayoutModel",
          "state": {
            "_view_name": "LayoutView",
            "grid_template_rows": null,
            "right": null,
            "justify_content": null,
            "_view_module": "@jupyter-widgets/base",
            "overflow": null,
            "_model_module_version": "1.2.0",
            "_view_count": null,
            "flex_flow": null,
            "width": null,
            "min_width": null,
            "border": null,
            "align_items": null,
            "bottom": null,
            "_model_module": "@jupyter-widgets/base",
            "top": null,
            "grid_column": null,
            "overflow_y": null,
            "overflow_x": null,
            "grid_auto_flow": null,
            "grid_area": null,
            "grid_template_columns": null,
            "flex": null,
            "_model_name": "LayoutModel",
            "justify_items": null,
            "grid_row": null,
            "max_height": null,
            "align_content": null,
            "visibility": null,
            "align_self": null,
            "height": null,
            "min_height": null,
            "padding": null,
            "grid_auto_rows": null,
            "grid_gap": null,
            "max_width": null,
            "order": null,
            "_view_module_version": "1.2.0",
            "grid_template_areas": null,
            "object_position": null,
            "object_fit": null,
            "grid_auto_columns": null,
            "margin": null,
            "display": null,
            "left": null
          }
        },
        "bc870aa3b8544421a78e6de47093c0f5": {
          "model_module": "@jupyter-widgets/controls",
          "model_name": "FloatProgressModel",
          "state": {
            "_view_name": "ProgressView",
            "style": "IPY_MODEL_9fae3a40d3bc49ff974ac81b657e4d73",
            "_dom_classes": [],
            "description": "",
            "_model_name": "FloatProgressModel",
            "bar_style": "info",
            "max": 1,
            "_view_module": "@jupyter-widgets/controls",
            "_model_module_version": "1.5.0",
            "value": 1,
            "_view_count": null,
            "_view_module_version": "1.5.0",
            "orientation": "horizontal",
            "min": 0,
            "description_tooltip": null,
            "_model_module": "@jupyter-widgets/controls",
            "layout": "IPY_MODEL_87d1f007b3664387a9e0ef4b4ce79020"
          }
        },
        "6957c822a01f4d25848a3ba8cb31d7b8": {
          "model_module": "@jupyter-widgets/controls",
          "model_name": "HTMLModel",
          "state": {
            "_view_name": "HTMLView",
            "style": "IPY_MODEL_80aceb4cddb849b6bf171626c89a19a5",
            "_dom_classes": [],
            "description": "",
            "_model_name": "HTMLModel",
            "placeholder": "​",
            "_view_module": "@jupyter-widgets/controls",
            "_model_module_version": "1.5.0",
            "value": " 1654784/? [00:19&lt;00:00, 141174.14it/s]",
            "_view_count": null,
            "_view_module_version": "1.5.0",
            "description_tooltip": null,
            "_model_module": "@jupyter-widgets/controls",
            "layout": "IPY_MODEL_a1b6625442754a95a1cfacc2ff39aaba"
          }
        },
        "9fae3a40d3bc49ff974ac81b657e4d73": {
          "model_module": "@jupyter-widgets/controls",
          "model_name": "ProgressStyleModel",
          "state": {
            "_view_name": "StyleView",
            "_model_name": "ProgressStyleModel",
            "description_width": "initial",
            "_view_module": "@jupyter-widgets/base",
            "_model_module_version": "1.5.0",
            "_view_count": null,
            "_view_module_version": "1.2.0",
            "bar_color": null,
            "_model_module": "@jupyter-widgets/controls"
          }
        },
        "87d1f007b3664387a9e0ef4b4ce79020": {
          "model_module": "@jupyter-widgets/base",
          "model_name": "LayoutModel",
          "state": {
            "_view_name": "LayoutView",
            "grid_template_rows": null,
            "right": null,
            "justify_content": null,
            "_view_module": "@jupyter-widgets/base",
            "overflow": null,
            "_model_module_version": "1.2.0",
            "_view_count": null,
            "flex_flow": null,
            "width": null,
            "min_width": null,
            "border": null,
            "align_items": null,
            "bottom": null,
            "_model_module": "@jupyter-widgets/base",
            "top": null,
            "grid_column": null,
            "overflow_y": null,
            "overflow_x": null,
            "grid_auto_flow": null,
            "grid_area": null,
            "grid_template_columns": null,
            "flex": null,
            "_model_name": "LayoutModel",
            "justify_items": null,
            "grid_row": null,
            "max_height": null,
            "align_content": null,
            "visibility": null,
            "align_self": null,
            "height": null,
            "min_height": null,
            "padding": null,
            "grid_auto_rows": null,
            "grid_gap": null,
            "max_width": null,
            "order": null,
            "_view_module_version": "1.2.0",
            "grid_template_areas": null,
            "object_position": null,
            "object_fit": null,
            "grid_auto_columns": null,
            "margin": null,
            "display": null,
            "left": null
          }
        },
        "80aceb4cddb849b6bf171626c89a19a5": {
          "model_module": "@jupyter-widgets/controls",
          "model_name": "DescriptionStyleModel",
          "state": {
            "_view_name": "StyleView",
            "_model_name": "DescriptionStyleModel",
            "description_width": "",
            "_view_module": "@jupyter-widgets/base",
            "_model_module_version": "1.5.0",
            "_view_count": null,
            "_view_module_version": "1.2.0",
            "_model_module": "@jupyter-widgets/controls"
          }
        },
        "a1b6625442754a95a1cfacc2ff39aaba": {
          "model_module": "@jupyter-widgets/base",
          "model_name": "LayoutModel",
          "state": {
            "_view_name": "LayoutView",
            "grid_template_rows": null,
            "right": null,
            "justify_content": null,
            "_view_module": "@jupyter-widgets/base",
            "overflow": null,
            "_model_module_version": "1.2.0",
            "_view_count": null,
            "flex_flow": null,
            "width": null,
            "min_width": null,
            "border": null,
            "align_items": null,
            "bottom": null,
            "_model_module": "@jupyter-widgets/base",
            "top": null,
            "grid_column": null,
            "overflow_y": null,
            "overflow_x": null,
            "grid_auto_flow": null,
            "grid_area": null,
            "grid_template_columns": null,
            "flex": null,
            "_model_name": "LayoutModel",
            "justify_items": null,
            "grid_row": null,
            "max_height": null,
            "align_content": null,
            "visibility": null,
            "align_self": null,
            "height": null,
            "min_height": null,
            "padding": null,
            "grid_auto_rows": null,
            "grid_gap": null,
            "max_width": null,
            "order": null,
            "_view_module_version": "1.2.0",
            "grid_template_areas": null,
            "object_position": null,
            "object_fit": null,
            "grid_auto_columns": null,
            "margin": null,
            "display": null,
            "left": null
          }
        },
        "5b9432b5f0194f8f86e7ed1556792529": {
          "model_module": "@jupyter-widgets/controls",
          "model_name": "HBoxModel",
          "state": {
            "_view_name": "HBoxView",
            "_dom_classes": [],
            "_model_name": "HBoxModel",
            "_view_module": "@jupyter-widgets/controls",
            "_model_module_version": "1.5.0",
            "_view_count": null,
            "_view_module_version": "1.5.0",
            "box_style": "",
            "layout": "IPY_MODEL_ac23b19d4117482eb28cd22ad5ccfe6c",
            "_model_module": "@jupyter-widgets/controls",
            "children": [
              "IPY_MODEL_8faa0546c69b4684a81c8ba91119164e",
              "IPY_MODEL_1e46124e3cdd43d8a8563426e65411f6"
            ]
          }
        },
        "ac23b19d4117482eb28cd22ad5ccfe6c": {
          "model_module": "@jupyter-widgets/base",
          "model_name": "LayoutModel",
          "state": {
            "_view_name": "LayoutView",
            "grid_template_rows": null,
            "right": null,
            "justify_content": null,
            "_view_module": "@jupyter-widgets/base",
            "overflow": null,
            "_model_module_version": "1.2.0",
            "_view_count": null,
            "flex_flow": null,
            "width": null,
            "min_width": null,
            "border": null,
            "align_items": null,
            "bottom": null,
            "_model_module": "@jupyter-widgets/base",
            "top": null,
            "grid_column": null,
            "overflow_y": null,
            "overflow_x": null,
            "grid_auto_flow": null,
            "grid_area": null,
            "grid_template_columns": null,
            "flex": null,
            "_model_name": "LayoutModel",
            "justify_items": null,
            "grid_row": null,
            "max_height": null,
            "align_content": null,
            "visibility": null,
            "align_self": null,
            "height": null,
            "min_height": null,
            "padding": null,
            "grid_auto_rows": null,
            "grid_gap": null,
            "max_width": null,
            "order": null,
            "_view_module_version": "1.2.0",
            "grid_template_areas": null,
            "object_position": null,
            "object_fit": null,
            "grid_auto_columns": null,
            "margin": null,
            "display": null,
            "left": null
          }
        },
        "8faa0546c69b4684a81c8ba91119164e": {
          "model_module": "@jupyter-widgets/controls",
          "model_name": "FloatProgressModel",
          "state": {
            "_view_name": "ProgressView",
            "style": "IPY_MODEL_2c3729e76e3c4bfcbba6c394b379dc68",
            "_dom_classes": [],
            "description": "",
            "_model_name": "FloatProgressModel",
            "bar_style": "success",
            "max": 1,
            "_view_module": "@jupyter-widgets/controls",
            "_model_module_version": "1.5.0",
            "value": 1,
            "_view_count": null,
            "_view_module_version": "1.5.0",
            "orientation": "horizontal",
            "min": 0,
            "description_tooltip": null,
            "_model_module": "@jupyter-widgets/controls",
            "layout": "IPY_MODEL_1e3f90465e5846a4a0567db9edde3239"
          }
        },
        "1e46124e3cdd43d8a8563426e65411f6": {
          "model_module": "@jupyter-widgets/controls",
          "model_name": "HTMLModel",
          "state": {
            "_view_name": "HTMLView",
            "style": "IPY_MODEL_4cffd3b4de854cc1966e31f4d08b207f",
            "_dom_classes": [],
            "description": "",
            "_model_name": "HTMLModel",
            "placeholder": "​",
            "_view_module": "@jupyter-widgets/controls",
            "_model_module_version": "1.5.0",
            "value": " 8192/? [00:00&lt;00:00, 23102.34it/s]",
            "_view_count": null,
            "_view_module_version": "1.5.0",
            "description_tooltip": null,
            "_model_module": "@jupyter-widgets/controls",
            "layout": "IPY_MODEL_9027789c53f144119b3fe802adb6829e"
          }
        },
        "2c3729e76e3c4bfcbba6c394b379dc68": {
          "model_module": "@jupyter-widgets/controls",
          "model_name": "ProgressStyleModel",
          "state": {
            "_view_name": "StyleView",
            "_model_name": "ProgressStyleModel",
            "description_width": "initial",
            "_view_module": "@jupyter-widgets/base",
            "_model_module_version": "1.5.0",
            "_view_count": null,
            "_view_module_version": "1.2.0",
            "bar_color": null,
            "_model_module": "@jupyter-widgets/controls"
          }
        },
        "1e3f90465e5846a4a0567db9edde3239": {
          "model_module": "@jupyter-widgets/base",
          "model_name": "LayoutModel",
          "state": {
            "_view_name": "LayoutView",
            "grid_template_rows": null,
            "right": null,
            "justify_content": null,
            "_view_module": "@jupyter-widgets/base",
            "overflow": null,
            "_model_module_version": "1.2.0",
            "_view_count": null,
            "flex_flow": null,
            "width": null,
            "min_width": null,
            "border": null,
            "align_items": null,
            "bottom": null,
            "_model_module": "@jupyter-widgets/base",
            "top": null,
            "grid_column": null,
            "overflow_y": null,
            "overflow_x": null,
            "grid_auto_flow": null,
            "grid_area": null,
            "grid_template_columns": null,
            "flex": null,
            "_model_name": "LayoutModel",
            "justify_items": null,
            "grid_row": null,
            "max_height": null,
            "align_content": null,
            "visibility": null,
            "align_self": null,
            "height": null,
            "min_height": null,
            "padding": null,
            "grid_auto_rows": null,
            "grid_gap": null,
            "max_width": null,
            "order": null,
            "_view_module_version": "1.2.0",
            "grid_template_areas": null,
            "object_position": null,
            "object_fit": null,
            "grid_auto_columns": null,
            "margin": null,
            "display": null,
            "left": null
          }
        },
        "4cffd3b4de854cc1966e31f4d08b207f": {
          "model_module": "@jupyter-widgets/controls",
          "model_name": "DescriptionStyleModel",
          "state": {
            "_view_name": "StyleView",
            "_model_name": "DescriptionStyleModel",
            "description_width": "",
            "_view_module": "@jupyter-widgets/base",
            "_model_module_version": "1.5.0",
            "_view_count": null,
            "_view_module_version": "1.2.0",
            "_model_module": "@jupyter-widgets/controls"
          }
        },
        "9027789c53f144119b3fe802adb6829e": {
          "model_module": "@jupyter-widgets/base",
          "model_name": "LayoutModel",
          "state": {
            "_view_name": "LayoutView",
            "grid_template_rows": null,
            "right": null,
            "justify_content": null,
            "_view_module": "@jupyter-widgets/base",
            "overflow": null,
            "_model_module_version": "1.2.0",
            "_view_count": null,
            "flex_flow": null,
            "width": null,
            "min_width": null,
            "border": null,
            "align_items": null,
            "bottom": null,
            "_model_module": "@jupyter-widgets/base",
            "top": null,
            "grid_column": null,
            "overflow_y": null,
            "overflow_x": null,
            "grid_auto_flow": null,
            "grid_area": null,
            "grid_template_columns": null,
            "flex": null,
            "_model_name": "LayoutModel",
            "justify_items": null,
            "grid_row": null,
            "max_height": null,
            "align_content": null,
            "visibility": null,
            "align_self": null,
            "height": null,
            "min_height": null,
            "padding": null,
            "grid_auto_rows": null,
            "grid_gap": null,
            "max_width": null,
            "order": null,
            "_view_module_version": "1.2.0",
            "grid_template_areas": null,
            "object_position": null,
            "object_fit": null,
            "grid_auto_columns": null,
            "margin": null,
            "display": null,
            "left": null
          }
        }
      }
    }
  },
  "cells": [
    {
      "cell_type": "markdown",
      "metadata": {
        "id": "view-in-github",
        "colab_type": "text"
      },
      "source": [
        "<a href=\"https://colab.research.google.com/github/VivekKejriwal/TheSchoolOfAI/blob/main/Assignment_5/Step1.ipynb\" target=\"_parent\"><img src=\"https://colab.research.google.com/assets/colab-badge.svg\" alt=\"Open In Colab\"/></a>"
      ]
    },
    {
      "cell_type": "code",
      "metadata": {
        "id": "FvWlL_YziVq5"
      },
      "source": [
        "#!pip install torch\r\n",
        "import torch\r\n",
        "import torch.nn as nn\r\n",
        "from torchvision import datasets, transforms\r\n",
        "import torch.optim as optim\r\n",
        "import torch.nn.functional as F"
      ],
      "execution_count": 1,
      "outputs": []
    },
    {
      "cell_type": "code",
      "metadata": {
        "id": "leIMXFWFiXer"
      },
      "source": [
        "#REQUIRED TRANSFORMS CREATED\r\n",
        "\r\n",
        "train_transforms = transforms.Compose([\r\n",
        "    transforms.ToTensor(),\r\n",
        "    transforms.Normalize((.1307,),(0.3081,))\r\n",
        "])\r\n",
        "\r\n",
        "test_transforms = transforms.Compose([\r\n",
        "    transforms.ToTensor(),\r\n",
        "    transforms.Normalize((.1307,),(0.3081,))\r\n",
        "])"
      ],
      "execution_count": 2,
      "outputs": []
    },
    {
      "cell_type": "code",
      "metadata": {
        "id": "LLi0H5OZiXp1",
        "colab": {
          "base_uri": "https://localhost:8080/",
          "height": 401,
          "referenced_widgets": [
            "63de88d2a9a245c4be0db0cddcb9e7d3",
            "37ed0930cec845b0a09856a3cc3f96be",
            "2dbbc5e167d5490190c3d19e0048eb40",
            "ad7a43d3e6554e14b8750bfe18263921",
            "60928b6a626d4c24a3fa00acf94694c5",
            "b14ffe5e9f0d436a959692aca0fe23bd",
            "44b340871bba44cea2212ec2cb04b97e",
            "6f0411ea6f8047e0b69988cc05c4abec",
            "a68ea27fd73b4153b207e65d15faaa92",
            "e1a7e1ed35694a9d851c8e513cd922cc",
            "3e819d631b684745a639393cdb919804",
            "543906d1c8194d889d6f130722db3657",
            "9987028f5be5463e902b55b4abee0318",
            "aaf400cf29b54ced927bf48d1c9138d2",
            "ad1ea41fe9b045f5b2f31146eb3b72c7",
            "4e4174e0fc734078bf86137ccba83bac",
            "eb4defe586c945409b41a6e1c35efc32",
            "3bbb9f5a97f849b8b708aae4c192f8fc",
            "bc870aa3b8544421a78e6de47093c0f5",
            "6957c822a01f4d25848a3ba8cb31d7b8",
            "9fae3a40d3bc49ff974ac81b657e4d73",
            "87d1f007b3664387a9e0ef4b4ce79020",
            "80aceb4cddb849b6bf171626c89a19a5",
            "a1b6625442754a95a1cfacc2ff39aaba",
            "5b9432b5f0194f8f86e7ed1556792529",
            "ac23b19d4117482eb28cd22ad5ccfe6c",
            "8faa0546c69b4684a81c8ba91119164e",
            "1e46124e3cdd43d8a8563426e65411f6",
            "2c3729e76e3c4bfcbba6c394b379dc68",
            "1e3f90465e5846a4a0567db9edde3239",
            "4cffd3b4de854cc1966e31f4d08b207f",
            "9027789c53f144119b3fe802adb6829e"
          ]
        },
        "outputId": "fa39bf81-2a3e-4bb3-c2e6-5adfc2d0b3d2"
      },
      "source": [
        "#LOADING REQUIRED MNIST DATA\r\n",
        "\r\n",
        "train = datasets.MNIST('./data',download=True,train=True,transform= train_transforms)\r\n",
        "test  = datasets.MNIST('./data',download=True,train=False,transform= test_transforms)"
      ],
      "execution_count": 3,
      "outputs": [
        {
          "output_type": "stream",
          "text": [
            "Downloading http://yann.lecun.com/exdb/mnist/train-images-idx3-ubyte.gz to ./data/MNIST/raw/train-images-idx3-ubyte.gz\n"
          ],
          "name": "stdout"
        },
        {
          "output_type": "display_data",
          "data": {
            "application/vnd.jupyter.widget-view+json": {
              "model_id": "63de88d2a9a245c4be0db0cddcb9e7d3",
              "version_minor": 0,
              "version_major": 2
            },
            "text/plain": [
              "HBox(children=(FloatProgress(value=1.0, bar_style='info', max=1.0), HTML(value='')))"
            ]
          },
          "metadata": {
            "tags": []
          }
        },
        {
          "output_type": "stream",
          "text": [
            "Extracting ./data/MNIST/raw/train-images-idx3-ubyte.gz to ./data/MNIST/raw\n",
            "Downloading http://yann.lecun.com/exdb/mnist/train-labels-idx1-ubyte.gz to ./data/MNIST/raw/train-labels-idx1-ubyte.gz\n"
          ],
          "name": "stdout"
        },
        {
          "output_type": "display_data",
          "data": {
            "application/vnd.jupyter.widget-view+json": {
              "model_id": "a68ea27fd73b4153b207e65d15faaa92",
              "version_minor": 0,
              "version_major": 2
            },
            "text/plain": [
              "HBox(children=(FloatProgress(value=1.0, bar_style='info', max=1.0), HTML(value='')))"
            ]
          },
          "metadata": {
            "tags": []
          }
        },
        {
          "output_type": "stream",
          "text": [
            "Extracting ./data/MNIST/raw/train-labels-idx1-ubyte.gz to ./data/MNIST/raw\n",
            "Downloading http://yann.lecun.com/exdb/mnist/t10k-images-idx3-ubyte.gz to ./data/MNIST/raw/t10k-images-idx3-ubyte.gz\n",
            "\n"
          ],
          "name": "stdout"
        },
        {
          "output_type": "display_data",
          "data": {
            "application/vnd.jupyter.widget-view+json": {
              "model_id": "eb4defe586c945409b41a6e1c35efc32",
              "version_minor": 0,
              "version_major": 2
            },
            "text/plain": [
              "HBox(children=(FloatProgress(value=1.0, bar_style='info', max=1.0), HTML(value='')))"
            ]
          },
          "metadata": {
            "tags": []
          }
        },
        {
          "output_type": "stream",
          "text": [
            "Extracting ./data/MNIST/raw/t10k-images-idx3-ubyte.gz to ./data/MNIST/raw\n",
            "Downloading http://yann.lecun.com/exdb/mnist/t10k-labels-idx1-ubyte.gz to ./data/MNIST/raw/t10k-labels-idx1-ubyte.gz\n"
          ],
          "name": "stdout"
        },
        {
          "output_type": "display_data",
          "data": {
            "application/vnd.jupyter.widget-view+json": {
              "model_id": "5b9432b5f0194f8f86e7ed1556792529",
              "version_minor": 0,
              "version_major": 2
            },
            "text/plain": [
              "HBox(children=(FloatProgress(value=1.0, bar_style='info', max=1.0), HTML(value='')))"
            ]
          },
          "metadata": {
            "tags": []
          }
        },
        {
          "output_type": "stream",
          "text": [
            "Extracting ./data/MNIST/raw/t10k-labels-idx1-ubyte.gz to ./data/MNIST/raw\n",
            "Processing...\n",
            "Done!\n"
          ],
          "name": "stdout"
        },
        {
          "output_type": "stream",
          "text": [
            "/usr/local/lib/python3.6/dist-packages/torchvision/datasets/mnist.py:480: UserWarning: The given NumPy array is not writeable, and PyTorch does not support non-writeable tensors. This means you can write to the underlying (supposedly non-writeable) NumPy array using the tensor. You may want to copy the array to protect its data or make it writeable before converting it to a tensor. This type of warning will be suppressed for the rest of this program. (Triggered internally at  /pytorch/torch/csrc/utils/tensor_numpy.cpp:141.)\n",
            "  return torch.from_numpy(parsed.astype(m[2], copy=False)).view(*s)\n"
          ],
          "name": "stderr"
        }
      ]
    },
    {
      "cell_type": "code",
      "metadata": {
        "id": "ZwMKVICYiXsg"
      },
      "source": [
        "SEED = 1\r\n",
        "\r\n",
        "#CUDA?\r\n",
        "cuda = torch.cuda.is_available()\r\n",
        "#print(cuda)\r\n",
        "\r\n",
        "torch.manual_seed(SEED)\r\n",
        "\r\n",
        "if cuda:\r\n",
        "  torch.cuda.manual_seed(SEED)\r\n",
        "\r\n",
        "dataloader_args = dict(shuffle=True, batch_size = 128, num_workers=4,pin_memory=True) if cuda else dict(shuffle=True, batch_size=64)\r\n",
        "\r\n",
        "#train loader\r\n",
        "\r\n",
        "train_loader = torch.utils.data.DataLoader(train,**dataloader_args)\r\n",
        "\r\n",
        "#test loader\r\n",
        "\r\n",
        "test_loader = torch.utils.data.DataLoader(test,**dataloader_args)"
      ],
      "execution_count": 4,
      "outputs": []
    },
    {
      "cell_type": "code",
      "metadata": {
        "id": "RYZq4904iXvL",
        "colab": {
          "base_uri": "https://localhost:8080/",
          "height": 519
        },
        "outputId": "cc559724-60a9-45a9-8cb6-756818233cc4"
      },
      "source": [
        "train_data = train.train_data\r\n",
        "train_data = train.transform(train_data.numpy())\r\n",
        "\r\n",
        "print(\"[Train]\")\r\n",
        "print(\"Numpy shape: \",train_data.shape)\r\n",
        "print(\"Tensor size: \",train.train_data.shape)\r\n",
        "print(\"min: \",torch.min(train_data))\r\n",
        "print(\"max: \",torch.max(train_data))\r\n",
        "print(\"mean: \",torch.mean(train_data))\r\n",
        "print(\"variance: \",torch.var(train_data))\r\n",
        "print(\"standard deviation: \",torch.std(train_data))\r\n",
        "\r\n",
        "dataiter = iter(train_loader)\r\n",
        "images, labels = dataiter.next()\r\n",
        "\r\n",
        "print(images.shape)\r\n",
        "print(labels.shape)\r\n",
        "\r\n",
        "%matplotlib inline\r\n",
        "import matplotlib.pyplot as plt\r\n",
        "\r\n",
        "plt.imshow(images[0].numpy().squeeze(), cmap='gray_r')\r\n"
      ],
      "execution_count": 5,
      "outputs": [
        {
          "output_type": "stream",
          "text": [
            "\n"
          ],
          "name": "stdout"
        },
        {
          "output_type": "stream",
          "text": [
            "/usr/local/lib/python3.6/dist-packages/torchvision/datasets/mnist.py:58: UserWarning: train_data has been renamed data\n",
            "  warnings.warn(\"train_data has been renamed data\")\n"
          ],
          "name": "stderr"
        },
        {
          "output_type": "stream",
          "text": [
            "[Train]\n",
            "Numpy shape:  torch.Size([28, 60000, 28])\n",
            "Tensor size:  torch.Size([60000, 28, 28])\n",
            "min:  tensor(-0.4242)\n",
            "max:  tensor(2.8215)\n",
            "mean:  tensor(-0.0001)\n",
            "variance:  tensor(1.0001)\n",
            "standard deviation:  tensor(1.0000)\n",
            "torch.Size([128, 1, 28, 28])\n",
            "torch.Size([128])\n"
          ],
          "name": "stdout"
        },
        {
          "output_type": "execute_result",
          "data": {
            "text/plain": [
              "<matplotlib.image.AxesImage at 0x7f0445ae90f0>"
            ]
          },
          "metadata": {
            "tags": []
          },
          "execution_count": 5
        },
        {
          "output_type": "display_data",
          "data": {
            "image/png": "[encoded data removed]",
            "text/plain": [
              "<Figure size 432x288 with 1 Axes>"
            ]
          },
          "metadata": {
            "tags": [],
            "needs_background": "light"
          }
        }
      ]
    },
    {
      "cell_type": "code",
      "metadata": {
        "id": "sZUg6aTpiXyX",
        "colab": {
          "base_uri": "https://localhost:8080/",
          "height": 246
        },
        "outputId": "df71dd32-e448-40b2-ac8d-dbcc54ba2af1"
      },
      "source": [
        "figure = plt.figure()\r\n",
        "num_of_images = 60\r\n",
        "for index in range(1,num_of_images+1):\r\n",
        "  plt.subplot(6,10,index)\r\n",
        "  plt.axis('off')\r\n",
        "  plt.imshow(images[index].numpy().squeeze(),cmap='gray_r') "
      ],
      "execution_count": 6,
      "outputs": [
        {
          "output_type": "display_data",
          "data": {
            "image/png": "[encoded data removed]",
            "text/plain": [
              "<Figure size 432x288 with 60 Axes>"
            ]
          },
          "metadata": {
            "tags": [],
            "needs_background": "light"
          }
        }
      ]
    },
    {
      "cell_type": "code",
      "metadata": {
        "id": "h2W5lgR5f3R5"
      },
      "source": [
        "class Net(nn.Module):\r\n",
        "  def __init__(self):\r\n",
        "    super(Net,self).__init__()\r\n",
        "\r\n",
        "    self.conv1 = nn.Sequential(\r\n",
        "        nn.Conv2d(1,32,3,padding=1), #input- 28X28X1 Output - 28X28X32 RF 3\r\n",
        "        nn.ReLU(),\r\n",
        "        nn.Conv2d(32,64,3,padding=1),#input- 28X28X32 Output - 28X28X64 RF 5\r\n",
        "        nn.ReLU(),\r\n",
        "        nn.MaxPool2d(2,2)  #RF-6\r\n",
        "    )\r\n",
        "\r\n",
        "    self.conv2 = nn.Sequential(\r\n",
        "        nn.Conv2d(64,64,3,padding=1), #input- 14X14X64 Output - 14X14X64 RF-10\r\n",
        "        nn.ReLU(),\r\n",
        "        nn.Conv2d(64,128,3,padding=1),#input- 14X14X64 Output - 14X14X128 RF- 14\r\n",
        "        nn.ReLU(),\r\n",
        "        nn.MaxPool2d(2,2) #RF - 16\r\n",
        "    )\r\n",
        "    self.conv3 = nn.Sequential(\r\n",
        "        nn.Conv2d(128,256,3), #input- 7X7X128 Output - 5X5X256 RF- 24\r\n",
        "        nn.ReLU(),\r\n",
        "        nn.Conv2d(256,512,3), #input- 5X5X256 Output - 3X3X512 RF- 32\r\n",
        "        nn.ReLU(),\r\n",
        "        nn.Conv2d(512,10,3)   #input- 3X3X512 Output - 1X1X10 RF- 40\r\n",
        "    )\r\n",
        "\r\n",
        "  def forward(self,x):\r\n",
        "    x = self.conv1(x)\r\n",
        "    x = self.conv2(x)\r\n",
        "    x = self.conv3(x)\r\n",
        "    x = x.view(-1,10)\r\n",
        "    return F.log_softmax(x, dim=1)\r\n"
      ],
      "execution_count": 7,
      "outputs": []
    },
    {
      "cell_type": "code",
      "metadata": {
        "colab": {
          "base_uri": "https://localhost:8080/"
        },
        "id": "bCNbFbLTh_PW",
        "outputId": "cb1bdcd2-b398-4685-9344-86990b04cd8a"
      },
      "source": [
        "!pip install torchsummary\r\n",
        "\r\n",
        "from torchsummary import summary\r\n",
        "\r\n",
        "device = torch.device(\"cuda\" if cuda else \"cpu\")\r\n",
        "print(device)\r\n",
        "\r\n",
        "model = Net().to(device)\r\n",
        "summary(model, input_size = (1, 28, 28))\r\n"
      ],
      "execution_count": 8,
      "outputs": [
        {
          "output_type": "stream",
          "text": [
            "Requirement already satisfied: torchsummary in /usr/local/lib/python3.6/dist-packages (1.5.1)\n",
            "cuda\n",
            "----------------------------------------------------------------\n",
            "        Layer (type)               Output Shape         Param #\n",
            "================================================================\n",
            "            Conv2d-1           [-1, 32, 28, 28]             320\n",
            "              ReLU-2           [-1, 32, 28, 28]               0\n",
            "            Conv2d-3           [-1, 64, 28, 28]          18,496\n",
            "              ReLU-4           [-1, 64, 28, 28]               0\n",
            "         MaxPool2d-5           [-1, 64, 14, 14]               0\n",
            "            Conv2d-6           [-1, 64, 14, 14]          36,928\n",
            "              ReLU-7           [-1, 64, 14, 14]               0\n",
            "            Conv2d-8          [-1, 128, 14, 14]          73,856\n",
            "              ReLU-9          [-1, 128, 14, 14]               0\n",
            "        MaxPool2d-10            [-1, 128, 7, 7]               0\n",
            "           Conv2d-11            [-1, 256, 5, 5]         295,168\n",
            "             ReLU-12            [-1, 256, 5, 5]               0\n",
            "           Conv2d-13            [-1, 512, 3, 3]       1,180,160\n",
            "             ReLU-14            [-1, 512, 3, 3]               0\n",
            "           Conv2d-15             [-1, 10, 1, 1]          46,090\n",
            "================================================================\n",
            "Total params: 1,651,018\n",
            "Trainable params: 1,651,018\n",
            "Non-trainable params: 0\n",
            "----------------------------------------------------------------\n",
            "Input size (MB): 0.00\n",
            "Forward/backward pass size (MB): 2.03\n",
            "Params size (MB): 6.30\n",
            "Estimated Total Size (MB): 8.34\n",
            "----------------------------------------------------------------\n"
          ],
          "name": "stdout"
        }
      ]
    },
    {
      "cell_type": "code",
      "metadata": {
        "id": "K0i5BaTQiobM"
      },
      "source": [
        "from tqdm import tqdm\r\n",
        "\r\n",
        "train_losses = []\r\n",
        "test_losses = []\r\n",
        "train_acc = []\r\n",
        "test_acc = []\r\n",
        "\r\n",
        "def train(model,device,train_loader,optimizer,epoch):\r\n",
        "  model.train()\r\n",
        "  pbar = tqdm(train_loader)\r\n",
        "  correct = 0\r\n",
        "  processed = 0\r\n",
        "  \r\n",
        "  for batch_id,(data, target) in enumerate(pbar):\r\n",
        "    data, target = data.to(device), target.to(device)\r\n",
        "    optimizer.zero_grad()\r\n",
        "\r\n",
        "    y_pred = model(data)\r\n",
        "\r\n",
        "    loss= F.nll_loss(y_pred,target)\r\n",
        "    train_losses.append(loss)\r\n",
        "\r\n",
        "    loss.backward()\r\n",
        "    optimizer.step()\r\n",
        "\r\n",
        "    pred = y_pred.argmax(dim=1, keepdim=True)\r\n",
        "    correct += pred.eq(target.view_as(pred)).sum().item()\r\n",
        "    processed+= len(data)\r\n",
        "\r\n",
        "    pbar.set_description(desc= f'Loss={loss.item()} Batch_size={batch_id} Accuracy={100*correct/processed:0.2f}')\r\n",
        "    train_acc.append(100*correct/processed)\r\n",
        "\r\n",
        "def test(model,device,test_loader):\r\n",
        "  model.eval()\r\n",
        "  test_loss = 0\r\n",
        "  correct = 0\r\n",
        "  with torch.no_grad():\r\n",
        "    for data, target in test_loader:\r\n",
        "      data, target = data.to(device), target.to(device)\r\n",
        "      output = model(data)\r\n",
        "      test_loss = F.nll_loss(output, target, reduction='sum').item()\r\n",
        "      pred = output.argmax(dim= 1,keepdim=True)\r\n",
        "      correct+= pred.eq(target.view_as(pred)).sum().item()\r\n",
        "\r\n",
        "  test_loss /= len(test_loader.dataset)\r\n",
        "  test_losses.append(test_loss)\r\n",
        "\r\n",
        "  print('\\nTest set: Average loss: {:.4f}, Acccuracy= {}/{} ({:.2f}%)\\n'.format(\r\n",
        "      test_loss, correct, len(test_loader.dataset),\r\n",
        "      100.*correct/len(test_loader.dataset)))\r\n",
        "  \r\n",
        "  test_acc.append(100.*correct/len(test_loader.dataset))\r\n",
        "\r\n"
      ],
      "execution_count": 9,
      "outputs": []
    },
    {
      "cell_type": "code",
      "metadata": {
        "colab": {
          "base_uri": "https://localhost:8080/"
        },
        "id": "2n6F3NK6yKqo",
        "outputId": "ac75b1f4-7427-4cab-c1e3-38dd2cff70d6"
      },
      "source": [
        "model = Net().to(device)\r\n",
        "optimizer = optim.SGD(model.parameters(),lr=0.01,momentum=0.9)\r\n",
        "\r\n",
        "EPOCHS = 20\r\n",
        "\r\n",
        "for epoch in range(EPOCHS):\r\n",
        "  print(\"EPOCH: \",epoch)\r\n",
        "  train(model,device,train_loader,optimizer,epoch)\r\n",
        "  test (model,device,test_loader)"
      ],
      "execution_count": 10,
      "outputs": [
        {
          "output_type": "stream",
          "text": [
            "\r  0%|          | 0/469 [00:00<?, ?it/s]"
          ],
          "name": "stderr"
        },
        {
          "output_type": "stream",
          "text": [
            "EPOCH:  0\n"
          ],
          "name": "stdout"
        },
        {
          "output_type": "stream",
          "text": [
            "Loss=0.08278658241033554 Batch_size=468 Accuracy=84.89: 100%|██████████| 469/469 [00:14<00:00, 32.30it/s]\n",
            "  0%|          | 0/469 [00:00<?, ?it/s]"
          ],
          "name": "stderr"
        },
        {
          "output_type": "stream",
          "text": [
            "\n",
            "Test set: Average loss: 0.0000, Acccuracy= 9794/10000 (97.94%)\n",
            "\n",
            "EPOCH:  1\n"
          ],
          "name": "stdout"
        },
        {
          "output_type": "stream",
          "text": [
            "Loss=0.060709547251462936 Batch_size=468 Accuracy=98.09: 100%|██████████| 469/469 [00:14<00:00, 32.10it/s]\n",
            "  0%|          | 0/469 [00:00<?, ?it/s]"
          ],
          "name": "stderr"
        },
        {
          "output_type": "stream",
          "text": [
            "\n",
            "Test set: Average loss: 0.0001, Acccuracy= 9850/10000 (98.50%)\n",
            "\n",
            "EPOCH:  2\n"
          ],
          "name": "stdout"
        },
        {
          "output_type": "stream",
          "text": [
            "Loss=0.05248567834496498 Batch_size=468 Accuracy=98.78: 100%|██████████| 469/469 [00:14<00:00, 32.07it/s]\n",
            "  0%|          | 0/469 [00:00<?, ?it/s]"
          ],
          "name": "stderr"
        },
        {
          "output_type": "stream",
          "text": [
            "\n",
            "Test set: Average loss: 0.0000, Acccuracy= 9867/10000 (98.67%)\n",
            "\n",
            "EPOCH:  3\n"
          ],
          "name": "stdout"
        },
        {
          "output_type": "stream",
          "text": [
            "Loss=0.011919564567506313 Batch_size=468 Accuracy=99.13: 100%|██████████| 469/469 [00:14<00:00, 32.27it/s]\n",
            "  0%|          | 0/469 [00:00<?, ?it/s]"
          ],
          "name": "stderr"
        },
        {
          "output_type": "stream",
          "text": [
            "\n",
            "Test set: Average loss: 0.0000, Acccuracy= 9909/10000 (99.09%)\n",
            "\n",
            "EPOCH:  4\n"
          ],
          "name": "stdout"
        },
        {
          "output_type": "stream",
          "text": [
            "Loss=0.07815547287464142 Batch_size=468 Accuracy=99.31: 100%|██████████| 469/469 [00:14<00:00, 32.35it/s]\n",
            "  0%|          | 0/469 [00:00<?, ?it/s]"
          ],
          "name": "stderr"
        },
        {
          "output_type": "stream",
          "text": [
            "\n",
            "Test set: Average loss: 0.0001, Acccuracy= 9892/10000 (98.92%)\n",
            "\n",
            "EPOCH:  5\n"
          ],
          "name": "stdout"
        },
        {
          "output_type": "stream",
          "text": [
            "Loss=0.011764002032577991 Batch_size=468 Accuracy=99.48: 100%|██████████| 469/469 [00:14<00:00, 32.03it/s]\n",
            "  0%|          | 0/469 [00:00<?, ?it/s]"
          ],
          "name": "stderr"
        },
        {
          "output_type": "stream",
          "text": [
            "\n",
            "Test set: Average loss: 0.0000, Acccuracy= 9878/10000 (98.78%)\n",
            "\n",
            "EPOCH:  6\n"
          ],
          "name": "stdout"
        },
        {
          "output_type": "stream",
          "text": [
            "Loss=0.002526073483750224 Batch_size=468 Accuracy=99.60: 100%|██████████| 469/469 [00:14<00:00, 32.48it/s]\n",
            "  0%|          | 0/469 [00:00<?, ?it/s]"
          ],
          "name": "stderr"
        },
        {
          "output_type": "stream",
          "text": [
            "\n",
            "Test set: Average loss: 0.0000, Acccuracy= 9908/10000 (99.08%)\n",
            "\n",
            "EPOCH:  7\n"
          ],
          "name": "stdout"
        },
        {
          "output_type": "stream",
          "text": [
            "Loss=0.007340676616877317 Batch_size=468 Accuracy=99.65: 100%|██████████| 469/469 [00:14<00:00, 31.96it/s]\n",
            "  0%|          | 0/469 [00:00<?, ?it/s]"
          ],
          "name": "stderr"
        },
        {
          "output_type": "stream",
          "text": [
            "\n",
            "Test set: Average loss: 0.0000, Acccuracy= 9923/10000 (99.23%)\n",
            "\n",
            "EPOCH:  8\n"
          ],
          "name": "stdout"
        },
        {
          "output_type": "stream",
          "text": [
            "Loss=0.0008371579460799694 Batch_size=468 Accuracy=99.74: 100%|██████████| 469/469 [00:14<00:00, 32.32it/s]\n",
            "  0%|          | 0/469 [00:00<?, ?it/s]"
          ],
          "name": "stderr"
        },
        {
          "output_type": "stream",
          "text": [
            "\n",
            "Test set: Average loss: 0.0000, Acccuracy= 9906/10000 (99.06%)\n",
            "\n",
            "EPOCH:  9\n"
          ],
          "name": "stdout"
        },
        {
          "output_type": "stream",
          "text": [
            "Loss=0.0018312102183699608 Batch_size=468 Accuracy=99.81: 100%|██████████| 469/469 [00:14<00:00, 32.52it/s]\n",
            "  0%|          | 0/469 [00:00<?, ?it/s]"
          ],
          "name": "stderr"
        },
        {
          "output_type": "stream",
          "text": [
            "\n",
            "Test set: Average loss: 0.0000, Acccuracy= 9885/10000 (98.85%)\n",
            "\n",
            "EPOCH:  10\n"
          ],
          "name": "stdout"
        },
        {
          "output_type": "stream",
          "text": [
            "Loss=0.0018895585089921951 Batch_size=468 Accuracy=99.82: 100%|██████████| 469/469 [00:14<00:00, 32.52it/s]\n",
            "  0%|          | 0/469 [00:00<?, ?it/s]"
          ],
          "name": "stderr"
        },
        {
          "output_type": "stream",
          "text": [
            "\n",
            "Test set: Average loss: 0.0000, Acccuracy= 9907/10000 (99.07%)\n",
            "\n",
            "EPOCH:  11\n"
          ],
          "name": "stdout"
        },
        {
          "output_type": "stream",
          "text": [
            "Loss=0.0005102956783957779 Batch_size=468 Accuracy=99.81: 100%|██████████| 469/469 [00:14<00:00, 32.32it/s]\n",
            "  0%|          | 0/469 [00:00<?, ?it/s]"
          ],
          "name": "stderr"
        },
        {
          "output_type": "stream",
          "text": [
            "\n",
            "Test set: Average loss: 0.0000, Acccuracy= 9915/10000 (99.15%)\n",
            "\n",
            "EPOCH:  12\n"
          ],
          "name": "stdout"
        },
        {
          "output_type": "stream",
          "text": [
            "Loss=0.0013867175439372659 Batch_size=468 Accuracy=99.90: 100%|██████████| 469/469 [00:14<00:00, 32.15it/s]\n",
            "  0%|          | 0/469 [00:00<?, ?it/s]"
          ],
          "name": "stderr"
        },
        {
          "output_type": "stream",
          "text": [
            "\n",
            "Test set: Average loss: 0.0000, Acccuracy= 9916/10000 (99.16%)\n",
            "\n",
            "EPOCH:  13\n"
          ],
          "name": "stdout"
        },
        {
          "output_type": "stream",
          "text": [
            "Loss=0.0009058992727659643 Batch_size=468 Accuracy=99.91: 100%|██████████| 469/469 [00:14<00:00, 32.40it/s]\n",
            "  0%|          | 0/469 [00:00<?, ?it/s]"
          ],
          "name": "stderr"
        },
        {
          "output_type": "stream",
          "text": [
            "\n",
            "Test set: Average loss: 0.0000, Acccuracy= 9930/10000 (99.30%)\n",
            "\n",
            "EPOCH:  14\n"
          ],
          "name": "stdout"
        },
        {
          "output_type": "stream",
          "text": [
            "Loss=0.0006626269314438105 Batch_size=468 Accuracy=99.97: 100%|██████████| 469/469 [00:14<00:00, 32.20it/s]\n",
            "  0%|          | 0/469 [00:00<?, ?it/s]"
          ],
          "name": "stderr"
        },
        {
          "output_type": "stream",
          "text": [
            "\n",
            "Test set: Average loss: 0.0000, Acccuracy= 9913/10000 (99.13%)\n",
            "\n",
            "EPOCH:  15\n"
          ],
          "name": "stdout"
        },
        {
          "output_type": "stream",
          "text": [
            "Loss=0.00021145310893189162 Batch_size=468 Accuracy=99.95: 100%|██████████| 469/469 [00:14<00:00, 32.45it/s]\n",
            "  0%|          | 0/469 [00:00<?, ?it/s]"
          ],
          "name": "stderr"
        },
        {
          "output_type": "stream",
          "text": [
            "\n",
            "Test set: Average loss: 0.0000, Acccuracy= 9927/10000 (99.27%)\n",
            "\n",
            "EPOCH:  16\n"
          ],
          "name": "stdout"
        },
        {
          "output_type": "stream",
          "text": [
            "Loss=0.0005327624967321754 Batch_size=468 Accuracy=99.89: 100%|██████████| 469/469 [00:14<00:00, 31.90it/s]\n",
            "  0%|          | 0/469 [00:00<?, ?it/s]"
          ],
          "name": "stderr"
        },
        {
          "output_type": "stream",
          "text": [
            "\n",
            "Test set: Average loss: 0.0000, Acccuracy= 9916/10000 (99.16%)\n",
            "\n",
            "EPOCH:  17\n"
          ],
          "name": "stdout"
        },
        {
          "output_type": "stream",
          "text": [
            "Loss=0.0004775553534273058 Batch_size=468 Accuracy=99.91: 100%|██████████| 469/469 [00:14<00:00, 32.35it/s]\n",
            "  0%|          | 0/469 [00:00<?, ?it/s]"
          ],
          "name": "stderr"
        },
        {
          "output_type": "stream",
          "text": [
            "\n",
            "Test set: Average loss: 0.0001, Acccuracy= 9915/10000 (99.15%)\n",
            "\n",
            "EPOCH:  18\n"
          ],
          "name": "stdout"
        },
        {
          "output_type": "stream",
          "text": [
            "Loss=0.000665843253955245 Batch_size=468 Accuracy=99.93: 100%|██████████| 469/469 [00:14<00:00, 32.38it/s]\n",
            "  0%|          | 0/469 [00:00<?, ?it/s]"
          ],
          "name": "stderr"
        },
        {
          "output_type": "stream",
          "text": [
            "\n",
            "Test set: Average loss: 0.0000, Acccuracy= 9922/10000 (99.22%)\n",
            "\n",
            "EPOCH:  19\n"
          ],
          "name": "stdout"
        },
        {
          "output_type": "stream",
          "text": [
            "Loss=0.00045126312761567533 Batch_size=468 Accuracy=99.97: 100%|██████████| 469/469 [00:14<00:00, 32.85it/s]\n"
          ],
          "name": "stderr"
        },
        {
          "output_type": "stream",
          "text": [
            "\n",
            "Test set: Average loss: 0.0000, Acccuracy= 9917/10000 (99.17%)\n",
            "\n"
          ],
          "name": "stdout"
        }
      ]
    },
    {
      "cell_type": "code",
      "metadata": {
        "colab": {
          "base_uri": "https://localhost:8080/",
          "height": 625
        },
        "id": "_7BZr-QIzgTr",
        "outputId": "3a94e779-3a93-4883-8941-17422adab552"
      },
      "source": [
        "fig, axs = plt.subplots(2,2, figsize=(15,10))\r\n",
        "axs[0, 0].plot(train_losses)\r\n",
        "axs[0, 0].set_title(\"Training Loss\")\r\n",
        "axs[1, 0].plot(train_acc)\r\n",
        "axs[1, 0].set_title(\"Training Accuracy\")\r\n",
        "axs[0, 1].plot(test_losses)\r\n",
        "axs[0, 1].set_title(\"Test Loss\")\r\n",
        "axs[1, 1].plot(test_acc)\r\n",
        "axs[1, 1].set_title(\"Test Accuracy\")"
      ],
      "execution_count": 12,
      "outputs": [
        {
          "output_type": "execute_result",
          "data": {
            "text/plain": [
              "Text(0.5, 1.0, 'Test Accuracy')"
            ]
          },
          "metadata": {
            "tags": []
          },
          "execution_count": 12
        },
        {
          "output_type": "display_data",
          "data": {
            "image/png": "[encoded data removed]",
            "text/plain": [
              "<Figure size 1080x720 with 4 Axes>"
            ]
          },
          "metadata": {
            "tags": [],
            "needs_background": "light"
          }
        }
      ]
    },
    {
      "cell_type": "markdown",
      "metadata": {
        "id": "VQjv1Qzw_lQw"
      },
      "source": [
        "Target:\r\n",
        "\r\n",
        "    Get the set-up right\r\n",
        "    Set Transforms\r\n",
        "    Set Data Loader\r\n",
        "    Set Basic Working Code\r\n",
        "    Set Basic Training  & Test Loop\r\n",
        "\r\n",
        "Results:\r\n",
        "\r\n",
        "    Parameters: 1.6M\r\n",
        "    Best Training Accuracy: 99.97\r\n",
        "    Best Test Accuracy: 99.30\r\n",
        "\r\n",
        "Analysis:\r\n",
        "\r\n",
        "    Extremely Heavy Model for such a problem\r\n",
        "    Model is over-fitting, but we are changing our model in the next step\r\n"
      ]
    }
  ]
}