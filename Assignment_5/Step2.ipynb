{
  "nbformat": 4,
  "nbformat_minor": 0,
  "metadata": {
    "colab": {
      "name": "File2",
      "provenance": [],
      "collapsed_sections": [],
      "authorship_tag": "ABX9TyOkRSeOR9PS+cetp4LScIo/",
      "include_colab_link": true
    },
    "kernelspec": {
      "name": "python3",
      "display_name": "Python 3"
    },
    "accelerator": "GPU"
  },
  "cells": [
    {
      "cell_type": "markdown",
      "metadata": {
        "id": "view-in-github",
        "colab_type": "text"
      },
      "source": [
        "<a href=\"https://colab.research.google.com/github/VivekKejriwal/TheSchoolOfAI/blob/main/Assignment_5/Step2.ipynb\" target=\"_parent\"><img src=\"https://colab.research.google.com/assets/colab-badge.svg\" alt=\"Open In Colab\"/></a>"
      ]
    },
    {
      "cell_type": "code",
      "metadata": {
        "id": "FvWlL_YziVq5"
      },
      "source": [
        "#!pip install torch\r\n",
        "import torch\r\n",
        "import torch.nn as nn\r\n",
        "from torchvision import datasets, transforms\r\n",
        "import torch.optim as optim\r\n",
        "import torch.nn.functional as F"
      ],
      "execution_count": 13,
      "outputs": []
    },
    {
      "cell_type": "code",
      "metadata": {
        "id": "leIMXFWFiXer"
      },
      "source": [
        "#REQUIRED TRANSFORMS CREATED\r\n",
        "\r\n",
        "train_transforms = transforms.Compose([\r\n",
        "    \r\n",
        "    transforms.ToTensor(),\r\n",
        "    transforms.Normalize((.1307,),(0.3081,))\r\n",
        "])\r\n",
        "\r\n",
        "test_transforms = transforms.Compose([\r\n",
        "    transforms.ToTensor(),\r\n",
        "    transforms.Normalize((.1307,),(0.3081,))\r\n",
        "])"
      ],
      "execution_count": 14,
      "outputs": []
    },
    {
      "cell_type": "code",
      "metadata": {
        "id": "LLi0H5OZiXp1"
      },
      "source": [
        "#LOADING REQUIRED MNIST DATA\r\n",
        "\r\n",
        "train = datasets.MNIST('./data',download=True,train=True,transform= train_transforms)\r\n",
        "test  = datasets.MNIST('./data',download=True,train=False,transform= test_transforms)"
      ],
      "execution_count": 15,
      "outputs": []
    },
    {
      "cell_type": "code",
      "metadata": {
        "id": "ZwMKVICYiXsg"
      },
      "source": [
        "SEED = 1\r\n",
        "\r\n",
        "#CUDA?\r\n",
        "cuda = torch.cuda.is_available()\r\n",
        "#print(cuda)\r\n",
        "\r\n",
        "torch.manual_seed(SEED)\r\n",
        "\r\n",
        "if cuda:\r\n",
        "  torch.cuda.manual_seed(SEED)\r\n",
        "\r\n",
        "dataloader_args = dict(shuffle=True, batch_size = 128, num_workers=4,pin_memory=True) if cuda else dict(shuffle=True, batch_size=64)\r\n",
        "\r\n",
        "#train loader\r\n",
        "\r\n",
        "train_loader = torch.utils.data.DataLoader(train,**dataloader_args)\r\n",
        "\r\n",
        "#test loader\r\n",
        "\r\n",
        "test_loader = torch.utils.data.DataLoader(test,**dataloader_args)"
      ],
      "execution_count": 16,
      "outputs": []
    },
    {
      "cell_type": "code",
      "metadata": {
        "id": "RYZq4904iXvL",
        "colab": {
          "base_uri": "https://localhost:8080/",
          "height": 501
        },
        "outputId": "f789c8fa-9f8c-4983-fa33-d33a15ca45e9"
      },
      "source": [
        "train_data = train.train_data\r\n",
        "train_data = train.transform(train_data.numpy())\r\n",
        "\r\n",
        "print(\"[Train]\")\r\n",
        "print(\"Numpy shape: \",train_data.shape)\r\n",
        "print(\"Tensor size: \",train.train_data.shape)\r\n",
        "print(\"min: \",torch.min(train_data))\r\n",
        "print(\"max: \",torch.max(train_data))\r\n",
        "print(\"mean: \",torch.mean(train_data))\r\n",
        "print(\"variance: \",torch.var(train_data))\r\n",
        "print(\"standard deviation: \",torch.std(train_data))\r\n",
        "\r\n",
        "dataiter = iter(train_loader)\r\n",
        "images, labels = dataiter.next()\r\n",
        "\r\n",
        "print(images.shape)\r\n",
        "print(labels.shape)\r\n",
        "\r\n",
        "%matplotlib inline\r\n",
        "import matplotlib.pyplot as plt\r\n",
        "\r\n",
        "plt.imshow(images[0].numpy().squeeze(), cmap='gray_r')\r\n"
      ],
      "execution_count": 17,
      "outputs": [
        {
          "output_type": "stream",
          "text": [
            "/usr/local/lib/python3.6/dist-packages/torchvision/datasets/mnist.py:58: UserWarning: train_data has been renamed data\n",
            "  warnings.warn(\"train_data has been renamed data\")\n"
          ],
          "name": "stderr"
        },
        {
          "output_type": "stream",
          "text": [
            "[Train]\n",
            "Numpy shape:  torch.Size([28, 60000, 28])\n",
            "Tensor size:  torch.Size([60000, 28, 28])\n",
            "min:  tensor(-0.4242)\n",
            "max:  tensor(2.8215)\n",
            "mean:  tensor(-0.0001)\n",
            "variance:  tensor(1.0001)\n",
            "standard deviation:  tensor(1.0000)\n",
            "torch.Size([128, 1, 28, 28])\n",
            "torch.Size([128])\n"
          ],
          "name": "stdout"
        },
        {
          "output_type": "execute_result",
          "data": {
            "text/plain": [
              "<matplotlib.image.AxesImage at 0x7fd8a74d3630>"
            ]
          },
          "metadata": {
            "tags": []
          },
          "execution_count": 17
        },
        {
          "output_type": "display_data",
          "data": {
            "image/png": "[encoded data removed]",
            "text/plain": [
              "<Figure size 432x288 with 1 Axes>"
            ]
          },
          "metadata": {
            "tags": [],
            "needs_background": "light"
          }
        }
      ]
    },
    {
      "cell_type": "code",
      "metadata": {
        "id": "sZUg6aTpiXyX",
        "colab": {
          "base_uri": "https://localhost:8080/",
          "height": 246
        },
        "outputId": "a846e817-f4d4-4cc7-c378-32a7fe8d0fcc"
      },
      "source": [
        "figure = plt.figure()\r\n",
        "num_of_images = 60\r\n",
        "for index in range(1,num_of_images+1):\r\n",
        "  plt.subplot(6,10,index)\r\n",
        "  plt.axis('off')\r\n",
        "  plt.imshow(images[index].numpy().squeeze(),cmap='gray_r') "
      ],
      "execution_count": 18,
      "outputs": [
        {
          "output_type": "display_data",
          "data": {
            "image/png": "[encoded data removed]",
            "text/plain": [
              "<Figure size 432x288 with 60 Axes>"
            ]
          },
          "metadata": {
            "tags": [],
            "needs_background": "light"
          }
        }
      ]
    },
    {
      "cell_type": "code",
      "metadata": {
        "id": "h2W5lgR5f3R5"
      },
      "source": [
        "class Net(nn.Module):\r\n",
        "  def __init__(self):\r\n",
        "    super(Net,self).__init__()\r\n",
        "\r\n",
        "    self.conv1 = nn.Sequential(\r\n",
        "        nn.Conv2d(1,8,3,padding=1), #INPUT- 28X28X1 OUTPUT- 28X28X8 RF- 3\r\n",
        "        nn.ReLU(),\r\n",
        "        nn.Conv2d(8,8,3,padding=1), #INPUT- 28X28X8 OUTPUT- 28X28X8 RF- 5\r\n",
        "        nn.ReLU(),\r\n",
        "        nn.MaxPool2d(2,2) #RF- 6\r\n",
        "    )\r\n",
        "\r\n",
        "    self.conv2 = nn.Sequential(\r\n",
        "        nn.Conv2d(8,16,3,padding=1), #INPUT- 14X14X8 OUTPUT- 14X14X16 RF- 10\r\n",
        "        nn.ReLU(),\r\n",
        "        nn.Conv2d(16,16,3,padding=1),#INPUT- 14X14X16 OUTPUT- 14X14X16 RF-14\r\n",
        "        nn.ReLU(),\r\n",
        "        nn.MaxPool2d(2,2) #RF- 16\r\n",
        "    )\r\n",
        "    self.conv3 = nn.Sequential(\r\n",
        "        nn.Conv2d(16,8,3), #INPUT- 7X7X16 OUTPUT- 5X5X8 RF- 24\r\n",
        "        nn.ReLU(),\r\n",
        "        nn.Conv2d(8,8,3), #INPUT- 5X5X8 OUTPUT- 3X3X8 RF- 32\r\n",
        "        nn.ReLU(),\r\n",
        "        nn.Conv2d(8,10,3) #INPUT- 3X3X8 OUTPUT- 1X1X10 RF-40\r\n",
        "    )\r\n",
        "\r\n",
        "  def forward(self,x):\r\n",
        "    x = self.conv1(x)\r\n",
        "    x = self.conv2(x)\r\n",
        "    x = self.conv3(x)\r\n",
        "    x = x.view(-1,10)\r\n",
        "    return F.log_softmax(x, dim=1)\r\n"
      ],
      "execution_count": 19,
      "outputs": []
    },
    {
      "cell_type": "code",
      "metadata": {
        "colab": {
          "base_uri": "https://localhost:8080/"
        },
        "id": "bCNbFbLTh_PW",
        "outputId": "b6d3ee42-a614-4089-c664-3f4872f29712"
      },
      "source": [
        "!pip install torchsummary\r\n",
        "\r\n",
        "from torchsummary import summary\r\n",
        "\r\n",
        "device = torch.device(\"cuda\" if cuda else \"cpu\")\r\n",
        "print(device)\r\n",
        "\r\n",
        "model = Net().to(device)\r\n",
        "summary(model, input_size = (1, 28, 28))\r\n"
      ],
      "execution_count": 20,
      "outputs": [
        {
          "output_type": "stream",
          "text": [
            "Requirement already satisfied: torchsummary in /usr/local/lib/python3.6/dist-packages (1.5.1)\n",
            "cuda\n",
            "----------------------------------------------------------------\n",
            "        Layer (type)               Output Shape         Param #\n",
            "================================================================\n",
            "            Conv2d-1            [-1, 8, 28, 28]              80\n",
            "              ReLU-2            [-1, 8, 28, 28]               0\n",
            "            Conv2d-3            [-1, 8, 28, 28]             584\n",
            "              ReLU-4            [-1, 8, 28, 28]               0\n",
            "         MaxPool2d-5            [-1, 8, 14, 14]               0\n",
            "            Conv2d-6           [-1, 16, 14, 14]           1,168\n",
            "              ReLU-7           [-1, 16, 14, 14]               0\n",
            "            Conv2d-8           [-1, 16, 14, 14]           2,320\n",
            "              ReLU-9           [-1, 16, 14, 14]               0\n",
            "        MaxPool2d-10             [-1, 16, 7, 7]               0\n",
            "           Conv2d-11              [-1, 8, 5, 5]           1,160\n",
            "             ReLU-12              [-1, 8, 5, 5]               0\n",
            "           Conv2d-13              [-1, 8, 3, 3]             584\n",
            "             ReLU-14              [-1, 8, 3, 3]               0\n",
            "           Conv2d-15             [-1, 10, 1, 1]             730\n",
            "================================================================\n",
            "Total params: 6,626\n",
            "Trainable params: 6,626\n",
            "Non-trainable params: 0\n",
            "----------------------------------------------------------------\n",
            "Input size (MB): 0.00\n",
            "Forward/backward pass size (MB): 0.31\n",
            "Params size (MB): 0.03\n",
            "Estimated Total Size (MB): 0.34\n",
            "----------------------------------------------------------------\n"
          ],
          "name": "stdout"
        }
      ]
    },
    {
      "cell_type": "code",
      "metadata": {
        "id": "K0i5BaTQiobM"
      },
      "source": [
        "from tqdm import tqdm\r\n",
        "\r\n",
        "train_losses = []\r\n",
        "test_losses = []\r\n",
        "train_acc = []\r\n",
        "test_acc = []\r\n",
        "\r\n",
        "def train(model,device,train_loader,optimizer,epoch):\r\n",
        "  model.train()\r\n",
        "  pbar = tqdm(train_loader)\r\n",
        "  correct = 0\r\n",
        "  processed = 0\r\n",
        "  \r\n",
        "  for batch_id,(data, target) in enumerate(pbar):\r\n",
        "    data, target = data.to(device), target.to(device)\r\n",
        "    optimizer.zero_grad()\r\n",
        "\r\n",
        "    y_pred = model(data)\r\n",
        "\r\n",
        "    loss= F.nll_loss(y_pred,target)\r\n",
        "    train_losses.append(loss)\r\n",
        "\r\n",
        "    loss.backward()\r\n",
        "    optimizer.step()\r\n",
        "\r\n",
        "    pred = y_pred.argmax(dim=1, keepdim=True)\r\n",
        "    correct += pred.eq(target.view_as(pred)).sum().item()\r\n",
        "    processed+= len(data)\r\n",
        "\r\n",
        "    pbar.set_description(desc= f'Loss={loss.item()} Batch_size={batch_id} Accuracy={100*correct/processed:0.2f}')\r\n",
        "    train_acc.append(100*correct/processed)\r\n",
        "\r\n",
        "def test(model,device,test_loader):\r\n",
        "  model.eval()\r\n",
        "  test_loss = 0\r\n",
        "  correct = 0\r\n",
        "  with torch.no_grad():\r\n",
        "    for data, target in test_loader:\r\n",
        "      data, target = data.to(device), target.to(device)\r\n",
        "      output = model(data)\r\n",
        "      test_loss = F.nll_loss(output, target, reduction='sum').item()\r\n",
        "      pred = output.argmax(dim= 1,keepdim=True)\r\n",
        "      correct+= pred.eq(target.view_as(pred)).sum().item()\r\n",
        "\r\n",
        "  test_loss /= len(test_loader.dataset)\r\n",
        "  test_losses.append(test_loss)\r\n",
        "\r\n",
        "  print('\\nTest set: Average loss: {:.4f}, Acccuracy= {}/{} ({:.2f}%)\\n'.format(\r\n",
        "      test_loss, correct, len(test_loader.dataset),\r\n",
        "      100.*correct/len(test_loader.dataset)))\r\n",
        "  \r\n",
        "  test_acc.append(100.*correct/len(test_loader.dataset))\r\n",
        "\r\n"
      ],
      "execution_count": 21,
      "outputs": []
    },
    {
      "cell_type": "code",
      "metadata": {
        "colab": {
          "base_uri": "https://localhost:8080/"
        },
        "id": "2n6F3NK6yKqo",
        "outputId": "c8034f5f-b987-4ba9-a73b-9f3557465e97"
      },
      "source": [
        "model = Net().to(device)\r\n",
        "optimizer = optim.SGD(model.parameters(),lr=0.01,momentum=0.9)\r\n",
        "\r\n",
        "EPOCHS = 20\r\n",
        "\r\n",
        "for epoch in range(EPOCHS):\r\n",
        "  print(\"EPOCH: \",epoch)\r\n",
        "  train(model,device,train_loader,optimizer,epoch)\r\n",
        "  test (model,device,test_loader)"
      ],
      "execution_count": 22,
      "outputs": [
        {
          "output_type": "stream",
          "text": [
            "\r  0%|          | 0/469 [00:00<?, ?it/s]"
          ],
          "name": "stderr"
        },
        {
          "output_type": "stream",
          "text": [
            "EPOCH:  0\n"
          ],
          "name": "stdout"
        },
        {
          "output_type": "stream",
          "text": [
            "Loss=0.19149307906627655 Batch_size=468 Accuracy=46.88: 100%|██████████| 469/469 [00:11<00:00, 39.21it/s]\n",
            "  0%|          | 0/469 [00:00<?, ?it/s]"
          ],
          "name": "stderr"
        },
        {
          "output_type": "stream",
          "text": [
            "\n",
            "Test set: Average loss: 0.0000, Acccuracy= 9358/10000 (93.58%)\n",
            "\n",
            "EPOCH:  1\n"
          ],
          "name": "stdout"
        },
        {
          "output_type": "stream",
          "text": [
            "Loss=0.04163506627082825 Batch_size=468 Accuracy=95.23: 100%|██████████| 469/469 [00:12<00:00, 37.79it/s]\n",
            "  0%|          | 0/469 [00:00<?, ?it/s]"
          ],
          "name": "stderr"
        },
        {
          "output_type": "stream",
          "text": [
            "\n",
            "Test set: Average loss: 0.0001, Acccuracy= 9660/10000 (96.60%)\n",
            "\n",
            "EPOCH:  2\n"
          ],
          "name": "stdout"
        },
        {
          "output_type": "stream",
          "text": [
            "Loss=0.1144605278968811 Batch_size=468 Accuracy=97.22: 100%|██████████| 469/469 [00:11<00:00, 40.61it/s]\n",
            "  0%|          | 0/469 [00:00<?, ?it/s]"
          ],
          "name": "stderr"
        },
        {
          "output_type": "stream",
          "text": [
            "\n",
            "Test set: Average loss: 0.0000, Acccuracy= 9743/10000 (97.43%)\n",
            "\n",
            "EPOCH:  3\n"
          ],
          "name": "stdout"
        },
        {
          "output_type": "stream",
          "text": [
            "Loss=0.1633267104625702 Batch_size=468 Accuracy=97.91: 100%|██████████| 469/469 [00:11<00:00, 39.49it/s]\n",
            "  0%|          | 0/469 [00:00<?, ?it/s]"
          ],
          "name": "stderr"
        },
        {
          "output_type": "stream",
          "text": [
            "\n",
            "Test set: Average loss: 0.0000, Acccuracy= 9794/10000 (97.94%)\n",
            "\n",
            "EPOCH:  4\n"
          ],
          "name": "stdout"
        },
        {
          "output_type": "stream",
          "text": [
            "Loss=0.053960416465997696 Batch_size=468 Accuracy=98.19: 100%|██████████| 469/469 [00:11<00:00, 39.39it/s]\n",
            "  0%|          | 0/469 [00:00<?, ?it/s]"
          ],
          "name": "stderr"
        },
        {
          "output_type": "stream",
          "text": [
            "\n",
            "Test set: Average loss: 0.0000, Acccuracy= 9765/10000 (97.65%)\n",
            "\n",
            "EPOCH:  5\n"
          ],
          "name": "stdout"
        },
        {
          "output_type": "stream",
          "text": [
            "Loss=0.017051296308636665 Batch_size=468 Accuracy=98.44: 100%|██████████| 469/469 [00:12<00:00, 37.34it/s]\n",
            "  0%|          | 0/469 [00:00<?, ?it/s]"
          ],
          "name": "stderr"
        },
        {
          "output_type": "stream",
          "text": [
            "\n",
            "Test set: Average loss: 0.0000, Acccuracy= 9824/10000 (98.24%)\n",
            "\n",
            "EPOCH:  6\n"
          ],
          "name": "stdout"
        },
        {
          "output_type": "stream",
          "text": [
            "Loss=0.039583124220371246 Batch_size=468 Accuracy=98.59: 100%|██████████| 469/469 [00:11<00:00, 39.28it/s]\n",
            "  0%|          | 0/469 [00:00<?, ?it/s]"
          ],
          "name": "stderr"
        },
        {
          "output_type": "stream",
          "text": [
            "\n",
            "Test set: Average loss: 0.0000, Acccuracy= 9809/10000 (98.09%)\n",
            "\n",
            "EPOCH:  7\n"
          ],
          "name": "stdout"
        },
        {
          "output_type": "stream",
          "text": [
            "Loss=0.03702341765165329 Batch_size=468 Accuracy=98.67: 100%|██████████| 469/469 [00:12<00:00, 38.11it/s]\n",
            "  0%|          | 0/469 [00:00<?, ?it/s]"
          ],
          "name": "stderr"
        },
        {
          "output_type": "stream",
          "text": [
            "\n",
            "Test set: Average loss: 0.0000, Acccuracy= 9856/10000 (98.56%)\n",
            "\n",
            "EPOCH:  8\n"
          ],
          "name": "stdout"
        },
        {
          "output_type": "stream",
          "text": [
            "Loss=0.02276800572872162 Batch_size=468 Accuracy=98.79: 100%|██████████| 469/469 [00:11<00:00, 40.39it/s]\n",
            "  0%|          | 0/469 [00:00<?, ?it/s]"
          ],
          "name": "stderr"
        },
        {
          "output_type": "stream",
          "text": [
            "\n",
            "Test set: Average loss: 0.0001, Acccuracy= 9853/10000 (98.53%)\n",
            "\n",
            "EPOCH:  9\n"
          ],
          "name": "stdout"
        },
        {
          "output_type": "stream",
          "text": [
            "Loss=0.04917373135685921 Batch_size=468 Accuracy=98.85: 100%|██████████| 469/469 [00:11<00:00, 40.61it/s]\n",
            "  0%|          | 0/469 [00:00<?, ?it/s]"
          ],
          "name": "stderr"
        },
        {
          "output_type": "stream",
          "text": [
            "\n",
            "Test set: Average loss: 0.0000, Acccuracy= 9868/10000 (98.68%)\n",
            "\n",
            "EPOCH:  10\n"
          ],
          "name": "stdout"
        },
        {
          "output_type": "stream",
          "text": [
            "Loss=0.002634940668940544 Batch_size=468 Accuracy=98.96: 100%|██████████| 469/469 [00:11<00:00, 39.50it/s]\n",
            "  0%|          | 0/469 [00:00<?, ?it/s]"
          ],
          "name": "stderr"
        },
        {
          "output_type": "stream",
          "text": [
            "\n",
            "Test set: Average loss: 0.0000, Acccuracy= 9859/10000 (98.59%)\n",
            "\n",
            "EPOCH:  11\n"
          ],
          "name": "stdout"
        },
        {
          "output_type": "stream",
          "text": [
            "Loss=0.02073836326599121 Batch_size=468 Accuracy=99.02: 100%|██████████| 469/469 [00:12<00:00, 38.73it/s]\n",
            "  0%|          | 0/469 [00:00<?, ?it/s]"
          ],
          "name": "stderr"
        },
        {
          "output_type": "stream",
          "text": [
            "\n",
            "Test set: Average loss: 0.0000, Acccuracy= 9868/10000 (98.68%)\n",
            "\n",
            "EPOCH:  12\n"
          ],
          "name": "stdout"
        },
        {
          "output_type": "stream",
          "text": [
            "Loss=0.0017490946920588613 Batch_size=468 Accuracy=99.05: 100%|██████████| 469/469 [00:11<00:00, 39.28it/s]\n",
            "  0%|          | 0/469 [00:00<?, ?it/s]"
          ],
          "name": "stderr"
        },
        {
          "output_type": "stream",
          "text": [
            "\n",
            "Test set: Average loss: 0.0000, Acccuracy= 9879/10000 (98.79%)\n",
            "\n",
            "EPOCH:  13\n"
          ],
          "name": "stdout"
        },
        {
          "output_type": "stream",
          "text": [
            "Loss=0.05540626123547554 Batch_size=468 Accuracy=99.05: 100%|██████████| 469/469 [00:12<00:00, 38.65it/s]\n",
            "  0%|          | 0/469 [00:00<?, ?it/s]"
          ],
          "name": "stderr"
        },
        {
          "output_type": "stream",
          "text": [
            "\n",
            "Test set: Average loss: 0.0000, Acccuracy= 9830/10000 (98.30%)\n",
            "\n",
            "EPOCH:  14\n"
          ],
          "name": "stdout"
        },
        {
          "output_type": "stream",
          "text": [
            "Loss=0.008348895236849785 Batch_size=468 Accuracy=99.17: 100%|██████████| 469/469 [00:12<00:00, 39.02it/s]\n",
            "  0%|          | 0/469 [00:00<?, ?it/s]"
          ],
          "name": "stderr"
        },
        {
          "output_type": "stream",
          "text": [
            "\n",
            "Test set: Average loss: 0.0000, Acccuracy= 9870/10000 (98.70%)\n",
            "\n",
            "EPOCH:  15\n"
          ],
          "name": "stdout"
        },
        {
          "output_type": "stream",
          "text": [
            "Loss=0.002439838135614991 Batch_size=468 Accuracy=99.22: 100%|██████████| 469/469 [00:12<00:00, 39.07it/s]\n",
            "  0%|          | 0/469 [00:00<?, ?it/s]"
          ],
          "name": "stderr"
        },
        {
          "output_type": "stream",
          "text": [
            "\n",
            "Test set: Average loss: 0.0000, Acccuracy= 9875/10000 (98.75%)\n",
            "\n",
            "EPOCH:  16\n"
          ],
          "name": "stdout"
        },
        {
          "output_type": "stream",
          "text": [
            "Loss=0.008591157384216785 Batch_size=468 Accuracy=99.21: 100%|██████████| 469/469 [00:11<00:00, 40.00it/s]\n",
            "  0%|          | 0/469 [00:00<?, ?it/s]"
          ],
          "name": "stderr"
        },
        {
          "output_type": "stream",
          "text": [
            "\n",
            "Test set: Average loss: 0.0000, Acccuracy= 9892/10000 (98.92%)\n",
            "\n",
            "EPOCH:  17\n"
          ],
          "name": "stdout"
        },
        {
          "output_type": "stream",
          "text": [
            "Loss=0.046477511525154114 Batch_size=468 Accuracy=99.25: 100%|██████████| 469/469 [00:11<00:00, 39.56it/s]\n",
            "  0%|          | 0/469 [00:00<?, ?it/s]"
          ],
          "name": "stderr"
        },
        {
          "output_type": "stream",
          "text": [
            "\n",
            "Test set: Average loss: 0.0000, Acccuracy= 9888/10000 (98.88%)\n",
            "\n",
            "EPOCH:  18\n"
          ],
          "name": "stdout"
        },
        {
          "output_type": "stream",
          "text": [
            "Loss=0.10496708005666733 Batch_size=468 Accuracy=99.31: 100%|██████████| 469/469 [00:11<00:00, 40.48it/s]\n",
            "  0%|          | 0/469 [00:00<?, ?it/s]"
          ],
          "name": "stderr"
        },
        {
          "output_type": "stream",
          "text": [
            "\n",
            "Test set: Average loss: 0.0000, Acccuracy= 9888/10000 (98.88%)\n",
            "\n",
            "EPOCH:  19\n"
          ],
          "name": "stdout"
        },
        {
          "output_type": "stream",
          "text": [
            "Loss=0.0034657043870538473 Batch_size=468 Accuracy=99.36: 100%|██████████| 469/469 [00:11<00:00, 39.98it/s]\n"
          ],
          "name": "stderr"
        },
        {
          "output_type": "stream",
          "text": [
            "\n",
            "Test set: Average loss: 0.0000, Acccuracy= 9871/10000 (98.71%)\n",
            "\n"
          ],
          "name": "stdout"
        }
      ]
    },
    {
      "cell_type": "code",
      "metadata": {
        "colab": {
          "base_uri": "https://localhost:8080/",
          "height": 625
        },
        "id": "_7BZr-QIzgTr",
        "outputId": "1f091506-8514-4bb6-d3b7-630ccf19c27c"
      },
      "source": [
        "fig, axs = plt.subplots(2,2, figsize=(15,10))\r\n",
        "axs[0, 0].plot(train_losses)\r\n",
        "axs[0, 0].set_title(\"Training Loss\")\r\n",
        "axs[1, 0].plot(train_acc)\r\n",
        "axs[1, 0].set_title(\"Training Accuracy\")\r\n",
        "axs[0, 1].plot(test_losses)\r\n",
        "axs[0, 1].set_title(\"Test Loss\")\r\n",
        "axs[1, 1].plot(test_acc)\r\n",
        "axs[1, 1].set_title(\"Test Accuracy\")"
      ],
      "execution_count": 23,
      "outputs": [
        {
          "output_type": "execute_result",
          "data": {
            "text/plain": [
              "Text(0.5, 1.0, 'Test Accuracy')"
            ]
          },
          "metadata": {
            "tags": []
          },
          "execution_count": 23
        },
        {
          "output_type": "display_data",
          "data": {
            "image/png": "[encoded data removed]",
            "text/plain": [
              "<Figure size 1080x720 with 4 Axes>"
            ]
          },
          "metadata": {
            "tags": [],
            "needs_background": "light"
          }
        }
      ]
    },
    {
      "cell_type": "markdown",
      "metadata": {
        "id": "VQjv1Qzw_lQw"
      },
      "source": [
        "Target:\r\n",
        "\r\n",
        "   Target:\r\n",
        "\r\n",
        "     Make the model lighter\r\n",
        "\r\n",
        "  Results:\r\n",
        "\r\n",
        "        Parameters: 6.6k\r\n",
        "        Best Train Accuracy: 99.36\r\n",
        "        Best Test Accuracy: 98.92\r\n",
        "  Analysis:\r\n",
        "\r\n",
        "        Good model!\r\n",
        "        A little over-fitting\r\n",
        "        Let's focus and see if we can improve the efficiency later\r\n",
        "\r\n"
      ]
    }
  ]
}