{
  "nbformat": 4,
  "nbformat_minor": 0,
  "metadata": {
    "colab": {
      "name": "Copy of EVA4 - Session 2.ipynb",
      "provenance": [],
      "include_colab_link": true
    },
    "kernelspec": {
      "name": "python3",
      "display_name": "Python 3"
    },
    "accelerator": "GPU"
  },
  "cells": [
    {
      "cell_type": "markdown",
      "metadata": {
        "id": "view-in-github",
        "colab_type": "text"
      },
      "source": [
        "<a href=\"https://colab.research.google.com/github/VivekKejriwal/TheSchoolOfAI/blob/main/Assignment_4/Assignment_4.ipynb\" target=\"_parent\"><img src=\"https://colab.research.google.com/assets/colab-badge.svg\" alt=\"Open In Colab\"/></a>"
      ]
    },
    {
      "cell_type": "code",
      "metadata": {
        "id": "0m2JWFliFfKT"
      },
      "source": [
        "from __future__ import print_function\n",
        "import torch\n",
        "import torch.nn as nn\n",
        "import torch.nn.functional as F\n",
        "import torch.optim as optim\n",
        "from torchvision import datasets, transforms"
      ],
      "execution_count": null,
      "outputs": []
    },
    {
      "cell_type": "code",
      "metadata": {
        "id": "Klms_qhtMthO"
      },
      "source": [
        "class Net(nn.Module):\r\n",
        "    def __init__(self):\r\n",
        "        super(Net, self).__init__()\r\n",
        "\r\n",
        "        self.conv1 = nn.Sequential(\r\n",
        "            nn.Conv2d(1, 8, 3, padding=1),           #28X28X1 >> 28X28X8 \r\n",
        "            nn.ReLU(),                               #Relu activation function\r\n",
        "            nn.BatchNorm2d(8),                       #Batch-Normalization to amplify the features extracted\r\n",
        "            nn.Conv2d(8,16, 3,padding =1),           #28X28X8 >> 28X28X16\r\n",
        "            nn.ReLU(),\r\n",
        "            nn.BatchNorm2d(16),\r\n",
        "            nn.MaxPool2d(2,2)                        #28X28X16 >> 14X14X16\r\n",
        "        )\r\n",
        "        self.conv2 = nn.Sequential(\r\n",
        "            nn.Conv2d(16, 16, 3, padding=1),         #14X14X16 >> 14X14X16\r\n",
        "            nn.ReLU(),\r\n",
        "            nn.BatchNorm2d(16),\r\n",
        "            nn.Conv2d(16,16, 3,padding =1),          #14X14X16 >> 14X14X16\r\n",
        "            nn.ReLU(),\r\n",
        "            nn.BatchNorm2d(16),\r\n",
        "            nn.Conv2d(16,16, 3,padding =1),          #14X14X16 >> 14X14X16\r\n",
        "            nn.ReLU(),\r\n",
        "            nn.BatchNorm2d(16),\r\n",
        "            nn.Conv2d(16,16, 3,padding =1),          #14X14X16 >> 14X14X16\r\n",
        "            nn.ReLU(),\r\n",
        "            nn.BatchNorm2d(16),\r\n",
        "            nn.Conv2d(16,16, 3,padding =1),          #14X14X16 >> 14X14X16\r\n",
        "            nn.ReLU(),\r\n",
        "            nn.BatchNorm2d(16),\r\n",
        "            nn.MaxPool2d(2,2)                        #14X14X16 >> 7X7X16                 \r\n",
        "        )\r\n",
        "        self.conv3 = nn.Sequential(\r\n",
        "            nn.Conv2d(16, 16, 3),                    #7X7X16 >> 5X5X16\r\n",
        "            nn.ReLU(),\r\n",
        "            nn.BatchNorm2d(16),                      \r\n",
        "            nn.Conv2d(16, 16, 3),                    #5X5X16 >> 3X3X16\r\n",
        "            nn.ReLU(),\r\n",
        "            nn.BatchNorm2d(16),\r\n",
        "            nn.Conv2d(16, 10, 3)                     #3X3X16 >> 1X1X10\r\n",
        "        )\r\n",
        "\r\n",
        "    def forward(self, x):\r\n",
        "        x = self.conv1(x)\r\n",
        "        x = self.conv2(x)\r\n",
        "        x = self.conv3(x)\r\n",
        "        x = x.view(-1, 10)\r\n",
        "        return F.log_softmax(x,dim=1)         #Log softmax for the negative-likelihood loss(NLL) of softmax"
      ],
      "execution_count": null,
      "outputs": []
    },
    {
      "cell_type": "code",
      "metadata": {
        "id": "xdydjYTZFyi3",
        "colab": {
          "base_uri": "https://localhost:8080/"
        },
        "outputId": "a8bb6f33-cf89-4b3e-9132-dc239b390f00"
      },
      "source": [
        "!pip install torchsummary\n",
        "from torchsummary import summary\n",
        "use_cuda = torch.cuda.is_available()                         #GPU availability check using CUDA\n",
        "device = torch.device(\"cuda\" if use_cuda else \"cpu\")\n",
        "model = Net().to(device)\n",
        "summary(model, input_size=(1, 28, 28))                       #Summary of the model having paramter count and Output shape "
      ],
      "execution_count": null,
      "outputs": [
        {
          "output_type": "stream",
          "text": [
            "Requirement already satisfied: torchsummary in /usr/local/lib/python3.6/dist-packages (1.5.1)\n",
            "----------------------------------------------------------------\n",
            "        Layer (type)               Output Shape         Param #\n",
            "================================================================\n",
            "            Conv2d-1            [-1, 8, 28, 28]              80\n",
            "              ReLU-2            [-1, 8, 28, 28]               0\n",
            "       BatchNorm2d-3            [-1, 8, 28, 28]              16\n",
            "            Conv2d-4           [-1, 16, 28, 28]           1,168\n",
            "              ReLU-5           [-1, 16, 28, 28]               0\n",
            "       BatchNorm2d-6           [-1, 16, 28, 28]              32\n",
            "         MaxPool2d-7           [-1, 16, 14, 14]               0\n",
            "            Conv2d-8           [-1, 16, 14, 14]           2,320\n",
            "              ReLU-9           [-1, 16, 14, 14]               0\n",
            "      BatchNorm2d-10           [-1, 16, 14, 14]              32\n",
            "           Conv2d-11           [-1, 16, 14, 14]           2,320\n",
            "             ReLU-12           [-1, 16, 14, 14]               0\n",
            "      BatchNorm2d-13           [-1, 16, 14, 14]              32\n",
            "           Conv2d-14           [-1, 16, 14, 14]           2,320\n",
            "             ReLU-15           [-1, 16, 14, 14]               0\n",
            "      BatchNorm2d-16           [-1, 16, 14, 14]              32\n",
            "           Conv2d-17           [-1, 16, 14, 14]           2,320\n",
            "             ReLU-18           [-1, 16, 14, 14]               0\n",
            "      BatchNorm2d-19           [-1, 16, 14, 14]              32\n",
            "           Conv2d-20           [-1, 16, 14, 14]           2,320\n",
            "             ReLU-21           [-1, 16, 14, 14]               0\n",
            "      BatchNorm2d-22           [-1, 16, 14, 14]              32\n",
            "        MaxPool2d-23             [-1, 16, 7, 7]               0\n",
            "           Conv2d-24             [-1, 16, 5, 5]           2,320\n",
            "             ReLU-25             [-1, 16, 5, 5]               0\n",
            "      BatchNorm2d-26             [-1, 16, 5, 5]              32\n",
            "           Conv2d-27             [-1, 16, 3, 3]           2,320\n",
            "             ReLU-28             [-1, 16, 3, 3]               0\n",
            "      BatchNorm2d-29             [-1, 16, 3, 3]              32\n",
            "           Conv2d-30             [-1, 10, 1, 1]           1,450\n",
            "================================================================\n",
            "Total params: 19,210\n",
            "Trainable params: 19,210\n",
            "Non-trainable params: 0\n",
            "----------------------------------------------------------------\n",
            "Input size (MB): 0.00\n",
            "Forward/backward pass size (MB): 0.83\n",
            "Params size (MB): 0.07\n",
            "Estimated Total Size (MB): 0.91\n",
            "----------------------------------------------------------------\n"
          ],
          "name": "stdout"
        }
      ]
    },
    {
      "cell_type": "code",
      "metadata": {
        "id": "DqTWLaM5GHgH"
      },
      "source": [
        "\n",
        "\n",
        "torch.manual_seed(1)\n",
        "batch_size = 128\n",
        "kwargs = {'num_workers': 1, 'pin_memory': True} if use_cuda else {}\n",
        "\n",
        "#Train-loader for the MNIST dataset of handwritten digits \n",
        "\n",
        "train_loader = torch.utils.data.DataLoader(\n",
        "    datasets.MNIST('../data', train=True, download=True,\n",
        "                    transform=transforms.Compose([\n",
        "                        transforms.ToTensor(),\n",
        "                        transforms.Normalize((0.1307,), (0.3081,))\n",
        "                    ])),\n",
        "    batch_size=batch_size, shuffle=True, **kwargs)\n",
        "\n",
        "#Test-loader\n",
        "\n",
        "test_loader = torch.utils.data.DataLoader(\n",
        "    datasets.MNIST('../data', train=False, transform=transforms.Compose([\n",
        "                        transforms.ToTensor(),\n",
        "                        transforms.Normalize((0.1307,), (0.3081,))\n",
        "                    ])),\n",
        "    batch_size=batch_size, shuffle=True, **kwargs)\n"
      ],
      "execution_count": null,
      "outputs": []
    },
    {
      "cell_type": "code",
      "metadata": {
        "id": "8fDefDhaFlwH"
      },
      "source": [
        "from tqdm import tqdm\n",
        "def train(model, device, train_loader, optimizer, epoch):\n",
        "    model.train()\n",
        "    pbar = train_loader\n",
        "    #pbar = train_loader   Uncomment this for having tqdm view of training\n",
        "\n",
        "    for batch_idx, (data, target) in enumerate(pbar):\n",
        "        data, target = data.to(device), target.to(device)\n",
        "        optimizer.zero_grad()\n",
        "        output = model(data)\n",
        "        loss = F.nll_loss(output, target)\n",
        "        loss.backward()\n",
        "        optimizer.step()\n",
        "        #pbar.set_description(desc= f'loss={loss.item()} batch_id={batch_idx}')\n",
        "\n",
        "\n",
        "def test(model, device, test_loader):\n",
        "    model.eval()\n",
        "    test_loss = 0\n",
        "    correct = 0\n",
        "    with torch.no_grad():\n",
        "        for data, target in test_loader:\n",
        "            data, target = data.to(device), target.to(device)\n",
        "            output = model(data)\n",
        "            test_loss += F.nll_loss(output, target, reduction='sum').item()     # sum up batch loss\n",
        "            pred = output.argmax(dim=1, keepdim=True)                           # get the index of the max log-probability\n",
        "            correct += pred.eq(target.view_as(pred)).sum().item()\n",
        "\n",
        "    test_loss /= len(test_loader.dataset)\n",
        "\n",
        "    print('\\nTest set: Average loss: {:.4f}, Accuracy: {}/{} ({:.2f}%)\\n'.format(\n",
        "        test_loss, correct, len(test_loader.dataset),\n",
        "        100. * correct / len(test_loader.dataset)))"
      ],
      "execution_count": null,
      "outputs": []
    },
    {
      "cell_type": "code",
      "metadata": {
        "id": "MMWbLWO6FuHb",
        "colab": {
          "base_uri": "https://localhost:8080/"
        },
        "outputId": "0058662e-b28d-4e8c-f26a-bf7c01c1eff3"
      },
      "source": [
        "\n",
        "model = Net().to(device)\n",
        "optimizer = optim.SGD(model.parameters(), lr=0.01, momentum=0.9)\n",
        "\n",
        "for epoch in range(1, 20):\n",
        "    train(model, device, train_loader, optimizer, epoch)\n",
        "    test(model, device, test_loader)"
      ],
      "execution_count": null,
      "outputs": [
        {
          "output_type": "stream",
          "text": [
            "\n",
            "Test set: Average loss: 0.0388, Accuracy: 9877/10000 (98.77%)\n",
            "\n",
            "\n",
            "Test set: Average loss: 0.0318, Accuracy: 9896/10000 (98.96%)\n",
            "\n",
            "\n",
            "Test set: Average loss: 0.0285, Accuracy: 9912/10000 (99.12%)\n",
            "\n",
            "\n",
            "Test set: Average loss: 0.0292, Accuracy: 9898/10000 (98.98%)\n",
            "\n",
            "\n",
            "Test set: Average loss: 0.0260, Accuracy: 9917/10000 (99.17%)\n",
            "\n",
            "\n",
            "Test set: Average loss: 0.0242, Accuracy: 9916/10000 (99.16%)\n",
            "\n",
            "\n",
            "Test set: Average loss: 0.0224, Accuracy: 9922/10000 (99.22%)\n",
            "\n",
            "\n",
            "Test set: Average loss: 0.0229, Accuracy: 9927/10000 (99.27%)\n",
            "\n",
            "\n",
            "Test set: Average loss: 0.0260, Accuracy: 9919/10000 (99.19%)\n",
            "\n",
            "\n",
            "Test set: Average loss: 0.0268, Accuracy: 9915/10000 (99.15%)\n",
            "\n",
            "\n",
            "Test set: Average loss: 0.0245, Accuracy: 9914/10000 (99.14%)\n",
            "\n",
            "\n",
            "Test set: Average loss: 0.0243, Accuracy: 9930/10000 (99.30%)\n",
            "\n",
            "\n",
            "Test set: Average loss: 0.0197, Accuracy: 9933/10000 (99.33%)\n",
            "\n",
            "\n",
            "Test set: Average loss: 0.0196, Accuracy: 9940/10000 (99.40%)\n",
            "\n",
            "\n",
            "Test set: Average loss: 0.0184, Accuracy: 9942/10000 (99.42%)\n",
            "\n",
            "\n",
            "Test set: Average loss: 0.0184, Accuracy: 9946/10000 (99.46%)\n",
            "\n",
            "\n",
            "Test set: Average loss: 0.0185, Accuracy: 9940/10000 (99.40%)\n",
            "\n",
            "\n",
            "Test set: Average loss: 0.0184, Accuracy: 9942/10000 (99.42%)\n",
            "\n",
            "\n",
            "Test set: Average loss: 0.0187, Accuracy: 9943/10000 (99.43%)\n",
            "\n"
          ],
          "name": "stdout"
        }
      ]
    },
    {
      "cell_type": "code",
      "metadata": {
        "id": "So5uk4EkHW6R"
      },
      "source": [
        ""
      ],
      "execution_count": null,
      "outputs": []
    }
  ]
}